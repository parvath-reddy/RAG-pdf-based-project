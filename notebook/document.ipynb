{
 "cells": [
  {
   "cell_type": "markdown",
   "id": "e7a20002",
   "metadata": {},
   "source": [
    "# data injection "
   ]
  },
  {
   "cell_type": "code",
   "execution_count": 1,
   "id": "bc721fdd",
   "metadata": {},
   "outputs": [],
   "source": [
    "###documennt structure \n",
    "\n",
    "from langchain_core.documents import Document"
   ]
  },
  {
   "cell_type": "code",
   "execution_count": 2,
   "id": "d5e7398a",
   "metadata": {},
   "outputs": [
    {
     "data": {
      "text/plain": [
       "Document(metadata={'source': 'example.txt', 'pages': 1, 'author': 'pr', 'date_created': '2025-1-24'}, page_content='this is the main text content im using to create RAG ')"
      ]
     },
     "execution_count": 2,
     "metadata": {},
     "output_type": "execute_result"
    }
   ],
   "source": [
    "doc = Document (\n",
    "    page_content=\"this is the main text content im using to create RAG \",\n",
    "    metadata = {\n",
    "        \"source\":\"example.txt\",\n",
    "        \"pages\":1,\n",
    "        \"author\":\"pr\",\n",
    "        \"date_created\":\"2025-1-24\"\n",
    "\n",
    "\n",
    "    }\n",
    ")\n",
    "doc\n"
   ]
  },
  {
   "cell_type": "code",
   "execution_count": 3,
   "id": "1c8357d9",
   "metadata": {},
   "outputs": [],
   "source": [
    " ## creating a simple txt file \n",
    "import os\n",
    "os.makedirs(\"../data/text_files\",exist_ok=True)"
   ]
  },
  {
   "cell_type": "code",
   "execution_count": 4,
   "id": "e47646f7",
   "metadata": {},
   "outputs": [
    {
     "name": "stdout",
     "output_type": "stream",
     "text": [
      "Sample text files created\n"
     ]
    }
   ],
   "source": [
    "sample_text = {\n",
    "    \"../data/text_files/python_intro.txt\": \"\"\"Final-year Computer Science student at VIT specializing in Data Science, Machine Learning, and AI innovation. I build intelligent systems that bridge the gap between cutting-edge research and practical business impact—transforming complex data into automated solutions that drive measurable results.\n",
    "\n",
    "What I Do:\n",
    "I architect end-to-end AI systems across three core areas:\n",
    "\n",
    "Generative & Agentic AI – Developed App-Builder AI, a multi-agent platform using LangChain and LangGraph that converts natural language into production-ready applications in under 2 minutes, reducing prototyping time by 70%. Built a RAG-powered Teaching Assistant achieving 85-90% accuracy with local LLMs for privacy-conscious educational support.\n",
    "\n",
    "Machine Learning & Risk Analytics – Designed ML pipelines for fraud detection (99.7% accuracy) and credit risk prediction that prevent multi-million-dollar losses. Deployed real-time prediction systems using Random Forest, XGBoost, and Gradient Boosting via Streamlit.\n",
    "\n",
    "Data Analytics & Business Intelligence – Delivered actionable insights from complex datasets (2GB+) using SQL, Python, Power BI, and Excel. Created interactive dashboards with DAX measures and KPIs that optimize operations, reveal market trends, and support strategic decision-making across sales, supply chain, and financial domains.\n",
    "\n",
    "Technical Foundation:\n",
    "Python | Pandas | Scikit-Learn | XGBoost | SQL | Power BI | LLMs | LangChain | LangGraph | RAG | Streamlit | Groq API\n",
    "\n",
    "Current Focus:\n",
    "Research internship at Suvidha Foundation on NLP/NLG, drafting publication-ready research while continuing to build autonomous AI systems that don't just predict—they create, adapt, and act independently.\n",
    "\n",
    "Open to opportunities where data science, generative AI, and strategic thinking converge to solve real-world problems.\"\"\"\n",
    "}\n",
    "\n",
    "for filepath, content in sample_text.items():\n",
    "    with open(filepath, 'w', encoding=\"utf-8\") as f:\n",
    "        f.write(content)\n",
    "\n",
    "print(\"Sample text files created\")"
   ]
  },
  {
   "cell_type": "code",
   "execution_count": 5,
   "id": "3b8703d6",
   "metadata": {},
   "outputs": [
    {
     "name": "stdout",
     "output_type": "stream",
     "text": [
      "[Document(metadata={'source': '../data/text_files/python_intro.txt'}, page_content=\"Final-year Computer Science student at VIT specializing in Data Science, Machine Learning, and AI innovation. I build intelligent systems that bridge the gap between cutting-edge research and practical business impact—transforming complex data into automated solutions that drive measurable results.\\n\\nWhat I Do:\\nI architect end-to-end AI systems across three core areas:\\n\\nGenerative & Agentic AI – Developed App-Builder AI, a multi-agent platform using LangChain and LangGraph that converts natural language into production-ready applications in under 2 minutes, reducing prototyping time by 70%. Built a RAG-powered Teaching Assistant achieving 85-90% accuracy with local LLMs for privacy-conscious educational support.\\n\\nMachine Learning & Risk Analytics – Designed ML pipelines for fraud detection (99.7% accuracy) and credit risk prediction that prevent multi-million-dollar losses. Deployed real-time prediction systems using Random Forest, XGBoost, and Gradient Boosting via Streamlit.\\n\\nData Analytics & Business Intelligence – Delivered actionable insights from complex datasets (2GB+) using SQL, Python, Power BI, and Excel. Created interactive dashboards with DAX measures and KPIs that optimize operations, reveal market trends, and support strategic decision-making across sales, supply chain, and financial domains.\\n\\nTechnical Foundation:\\nPython | Pandas | Scikit-Learn | XGBoost | SQL | Power BI | LLMs | LangChain | LangGraph | RAG | Streamlit | Groq API\\n\\nCurrent Focus:\\nResearch internship at Suvidha Foundation on NLP/NLG, drafting publication-ready research while continuing to build autonomous AI systems that don't just predict—they create, adapt, and act independently.\\n\\nOpen to opportunities where data science, generative AI, and strategic thinking converge to solve real-world problems.\")]\n"
     ]
    }
   ],
   "source": [
    "### text loader \n",
    "from langchain_community.document_loaders import TextLoader\n",
    "\n",
    "loader = TextLoader(\"../data/text_files/python_intro.txt\",encoding=\"utf-8\")\n",
    "document = loader.load()\n",
    "print(document)"
   ]
  },
  {
   "cell_type": "code",
   "execution_count": 8,
   "id": "2f26759f",
   "metadata": {},
   "outputs": [
    {
     "name": "stdout",
     "output_type": "stream",
     "text": [
      "[Document(metadata={'source': '../data/text_files/python_intro.txt'}, page_content=\"Final-year Computer Science student at VIT specializing in Data Science, Machine Learning, and AI innovation. I build intelligent systems that bridge the gap between cutting-edge research and practical business impact—transforming complex data into automated solutions that drive measurable results.\\n\\nWhat I Do:\\nI architect end-to-end AI systems across three core areas:\\n\\nGenerative & Agentic AI – Developed App-Builder AI, a multi-agent platform using LangChain and LangGraph that converts natural language into production-ready applications in under 2 minutes, reducing prototyping time by 70%. Built a RAG-powered Teaching Assistant achieving 85-90% accuracy with local LLMs for privacy-conscious educational support.\\n\\nMachine Learning & Risk Analytics – Designed ML pipelines for fraud detection (99.7% accuracy) and credit risk prediction that prevent multi-million-dollar losses. Deployed real-time prediction systems using Random Forest, XGBoost, and Gradient Boosting via Streamlit.\\n\\nData Analytics & Business Intelligence – Delivered actionable insights from complex datasets (2GB+) using SQL, Python, Power BI, and Excel. Created interactive dashboards with DAX measures and KPIs that optimize operations, reveal market trends, and support strategic decision-making across sales, supply chain, and financial domains.\\n\\nTechnical Foundation:\\nPython | Pandas | Scikit-Learn | XGBoost | SQL | Power BI | LLMs | LangChain | LangGraph | RAG | Streamlit | Groq API\\n\\nCurrent Focus:\\nResearch internship at Suvidha Foundation on NLP/NLG, drafting publication-ready research while continuing to build autonomous AI systems that don't just predict—they create, adapt, and act independently.\\n\\nOpen to opportunities where data science, generative AI, and strategic thinking converge to solve real-world problems.\")]\n"
     ]
    }
   ],
   "source": [
    "## directory loader \n",
    "from langchain_community.document_loaders import DirectoryLoader\n",
    "\n",
    "## load all the text files from the directory \n",
    "\n",
    "dir_loader=DirectoryLoader(\n",
    "    \"../data/text_files\",\n",
    "    glob=\"**/*.txt\", ## pattern to match the files which exist \n",
    "    loader_cls = TextLoader, ## loader class to use \n",
    "    loader_kwargs= {'encoding':'utf-8'},\n",
    "    show_progress=False\n",
    "\n",
    ")\n",
    "\n",
    "document = dir_loader.load()\n",
    "print(document)"
   ]
  },
  {
   "cell_type": "code",
   "execution_count": 16,
   "id": "902e0fd4",
   "metadata": {},
   "outputs": [
    {
     "data": {
      "text/plain": [
       "[Document(metadata={'producer': 'pdfTeX-1.40.27', 'creator': 'LaTeX with hyperref', 'creationdate': '2025-09-16T04:28:48+00:00', 'source': '../data/pdf_files/Parvath_Reddy_Quality_analyst.pdf', 'file_path': '../data/pdf_files/Parvath_Reddy_Quality_analyst.pdf', 'total_pages': 1, 'format': 'PDF 1.5', 'title': '', 'author': '', 'subject': '', 'keywords': '', 'moddate': '2025-09-16T04:28:48+00:00', 'trapped': '', 'modDate': 'D:20250916042848Z', 'creationDate': 'D:20250916042848Z', 'page': 0}, page_content='PARVATH REDDY\\nQuality Analyst\\nBengaluru, KA | \\x83 +91-7675043309\\n# parvathreddy50@gmail.com\\nï linkedin.com/in/parvath-reddy\\nSummary\\nQuality Analyst with expertise in data validation, process improvement, and quality assurance methodologies.\\nProficient in SQL, Python, and statistical analysis for identifying defects, ensuring data integrity, and implementing\\nquality control measures to enhance operational efficiency and reduce error rates.\\nSkills\\nQuality Assurance: Test Case Design, Defect Management, Root Cause Analysis, Quality Control, Process\\nValidation, Compliance Testing\\nTechnical: SQL, Python, Excel, Statistical Analysis, Data Validation, Quality Metrics, MySQL, PostgreSQL,\\nPower BI, Test Automation\\nExperience\\nQuality Analyst Intern\\nMay 2025 – July 2025\\nMileto Foods (Remote)\\nTools Used: Excel, SQL, Power BI, Statistical Analysis\\n• Performed comprehensive quality audits across 5+ state operations, validating data integrity and process\\ncompliance, achieving 99.2% data accuracy through systematic validation procedures.\\n• Implemented quality control frameworks with automated Excel validation templates, reducing data entry errors by\\n40% across 20+ distribution points.\\n• Enhanced quality monitoring by creating Power BI dashboards with quality KPIs, improving defect detection rate\\nby 25% for proactive quality management.\\nProjects\\nVendor Quality Assessment & Process Validation | Quality Control, SQL, Statistical Analysis\\nApril 2025\\nGitHub\\n– Conducted end-to-end quality assessment of 1M+ transaction records using SQL and Python, identifying 95% of\\ncritical quality issues and preventing $418K in potential quality-related losses.\\n– Designed quality dashboard with 15+ quality metrics tracking defect rates and compliance scores, reducing quality\\nanalysis time to real-time monitoring.\\n– Delivered quality improvement recommendations achieving 15-20% reduction in defect rates through systematic root\\ncause analysis and vendor standardization.\\nBanking Data Quality & Compliance Testing | Data Validation, Quality Assurance, SQL\\nMarch 2025\\nGitHub\\n– Executed comprehensive data quality testing across banking systems, validating 3,000 customer records and\\nensuring 99.5% accuracy in $43.8M loan portfolio through systematic quality checks.\\n– Developed quality assurance framework with validation rules and compliance metrics, implementing quality gates that\\nimproved data quality score by 95%.\\n– Established predictive quality monitoring analyzing 15-year patterns, enabling early detection of quality issues and\\npreventive measures for data integrity.\\nSales Data Quality & Integrity Validation | Data Quality Testing, Process Validation, SQL December 2024\\nGitHub\\n– Performed comprehensive data quality assessment on 5+ sales datasets, implementing validation protocols\\nachieving 98% data consistency across 5-year historical records.\\n– Created quality monitoring dashboard with automated anomaly detection, identifying data quality issues in real-time and\\nimproving data reliability by 35%.\\n– Delivered quality assurance recommendations for data governance, establishing standards that reduced data\\ninconsistencies by 40% for executive reporting.\\nEducation\\nBachelor of Technology - Computer Science Engineering\\nExpected: 2026\\nVellore Institute of Technology, Bhopal\\nCGPA: 7.7/10.0'),\n",
       " Document(metadata={'producer': 'pdfTeX-1.40.26', 'creator': 'LaTeX with hyperref', 'creationdate': '2025-09-21T16:04:52+00:00', 'source': '../data/pdf_files/Parvath_Reddy_Machine_Learning_Engineer.pdf', 'file_path': '../data/pdf_files/Parvath_Reddy_Machine_Learning_Engineer.pdf', 'total_pages': 1, 'format': 'PDF 1.5', 'title': '', 'author': '', 'subject': '', 'keywords': '', 'moddate': '2025-09-21T16:04:52+00:00', 'trapped': '', 'modDate': 'D:20250921160452Z', 'creationDate': 'D:20250921160452Z', 'page': 0}, page_content='PARVATH REDDY\\nMachine Learning Engineer\\nBengaluru, KA | \\x83 +91-7675043309\\n# parvathreddy50@gmail.com\\nï linkedin.com/in/parvath-reddy\\n§ github.com/parvath-reddy\\nSummary\\nMachine Learning Engineer with expertise in building production-ready ML systems, deep learning models, and RAG-based\\napplications. Proficient in Python, TensorFlow, PyTorch, and MLOps, with experience deploying scalable models and\\ncomputer vision solutions achieving 95% accuracy.\\nTechnical Skills\\nMachine Learning: Scikit-learn, XGBoost, LightGBM, Random Forest, SVM, Ensemble Methods\\nDeep Learning & AI: TensorFlow, PyTorch, Keras, OpenAI API, Transformers, LSTM, CNN\\nComputer Vision & NLP: OpenCV, YOLO, Object Detection, OpenAI Whisper, RAG, Embeddings\\nMLOps & Deployment: Streamlit, Docker, Model Versioning, Pipeline Optimization\\nProgramming & Tools: Python, SQL, Git, Jupyter, Pandas, NumPy, Matplotlib, Seaborn\\nDatabases: MySQL, PostgreSQL, Vector Databases, Statistical Modeling\\nExperience\\nMachine Learning Intern\\nFebruary 2025 – April 2025\\nMileto Foods (Remote)\\nML Tools: Python, Scikit-learn, SQL, Statistical Analysis\\n• Constructed predictive analytics models on 50,000+ multi-state sales records using Python and Scikit-learn, applying time\\nseries forecasting algorithms that enhanced demand prediction accuracy by 15% across 5 regional markets.\\n• Designed feature engineering pipeline with statistical analysis techniques, creating 12+ predictive features for inventory\\noptimization models, decreasing forecasting error by 25% and enabling proactive supply chain decisions.\\n• Delivered machine learning insights through systematic reporting systems using statistical modeling and regression analysis,\\nproviding actionable predictions that boosted revenue forecasting precision by 12% for strategic planning.\\nMachine Learning Projects\\nRAG AI Teaching Assistant | NLP, Embeddings, LLM, Vector Search, Production ML\\nAugust 2025\\nLive Demo\\n– Developed production-grade RAG system with advanced NLP pipeline achieving 90% semantic accuracy using BGE-M3\\nembeddings, vector similarity search, and Llama 3.2 LLM integration with sub-3-second inference time.\\n– Executed end-to-end ML pipeline with speech recognition (OpenAI Whisper), text preprocessing, and semantic chunking\\nalgorithms, processing 1,000+ educational segments with 95% content extraction accuracy.\\n– Launched scalable ML application using Streamlit with cosine similarity algorithms, vector database integration, and real-time\\nmodel serving infrastructure handling 500+ daily ML inference requests.\\nFinancial Fraud Detection ML System | Ensemble Methods, Feature Engineering, Production ML\\nJune 2025\\nLive Demo\\n– Constructed high-performance ensemble ML model using XGBoost, Random Forest, and Gradient Boosting on 1M+ transaction\\ndataset, achieving 99.7% accuracy, 98.5% precision with advanced hyperparameter tuning and cross-validation.\\n– Designed sophisticated feature extraction pipeline creating 15+ behavioral and statistical features including transaction\\nvelocity, anomaly scores, and temporal patterns, elevating model AUC-ROC from 0.85 to 0.992.\\n– Delivered real-time ML inference system with performance monitoring, A/B testing framework, and performance tracking, serving\\n1,000+ predictions daily with 99.9% uptime and model retraining capabilities.\\nCredit Risk ML Prediction Engine | Tree-based Models, Risk Analytics, Model Deployment\\nApril 2025\\nLive Demo\\n– Established robust credit risk assessment ML model using Extra Trees Classifier with advanced feature selection techniques,\\nachieving 85% accuracy and 0.88 AUC-ROC score through ensemble learning and model stacking approaches.\\n– Executed comprehensive feature engineering workflow extracting 12 financial risk indicators with statistical validation,\\ncorrelation analysis, and feature importance ranking, improving model interpretability by 40%.\\n– Launched production ML system with model serving, confidence scoring, and drift detection mechanisms, processing 500+ risk\\nassessments monthly with real-time prediction capabilities and model performance monitoring.\\nResearch & Publications\\nComputer Vision Research: YOLOv8 Pothole Detection System\\nApril 2025\\nDeep Learning & Object Detection - 92.5% Precision Achievement\\nPublished on SSRN\\nEducation\\nBachelor of Technology - Computer Science Engineering\\nExpected: 2026\\nVellore Institute of Technology, Bhopal\\nCGPA: 7.7/10.0'),\n",
       " Document(metadata={'producer': 'pdfTeX-1.40.27', 'creator': 'LaTeX with hyperref', 'creationdate': '2025-10-03T21:17:13+00:00', 'source': '../data/pdf_files/ParvathReddy_DataScience_Resume.pdf', 'file_path': '../data/pdf_files/ParvathReddy_DataScience_Resume.pdf', 'total_pages': 1, 'format': 'PDF 1.5', 'title': '', 'author': '', 'subject': '', 'keywords': '', 'moddate': '2025-10-03T21:17:13+00:00', 'trapped': '', 'modDate': 'D:20251003211713Z', 'creationDate': 'D:20251003211713Z', 'page': 0}, page_content='PARVATH REDDY\\nData Scientist\\nBengaluru, KA | +91-7675043309 | parvathreddy50@gmail.com | linkedin.com/in/parvath-reddy | github.com/parvath-reddy\\nSummary\\nData Scientist skilled in machine learning, deep learning, and AI development with internship experience in analytics. Hands-on\\nexpertise in building production-ready ML systems, RAG-based applications, and financial risk models. Strong foundation in\\nPython, SQL, and advanced analytics to deliver data-driven business solutions.\\nSkills\\nProgramming: Python, SQL, R, JavaScript\\nML/DL & AI: Scikit-learn, XGBoost, TensorFlow, PyTorch, OpenAI API, RAG, NLP\\nData Science: Pandas, NumPy, Matplotlib, Seaborn, Plotly, Jupyter, Streamlit\\nDatabases & Analytics: MySQL, PostgreSQL, Statistical Modeling, A/B Testing\\nExperience\\nData Science Intern\\nAugust 2025 – September 2025\\nCodSoft (Remote)\\nPython, Scikit-learn, Random Forest, SMOTE, Regression Analysis\\n• Developed machine learning models for fraud detection and movie rating prediction using Python, Scikit-learn, and ensemble methods\\non 289,000+ transactions and 5,000+ films, achieving 95%+ precision, 95%+ recall, and 0.8 RMSE through advanced feature\\nengineering, SMOTE oversampling, hyperparameter tuning, and cross-validation techniques that improved sales forecast accuracy by\\n85%.\\nData Analyst Intern\\nFebruary 2025 – April 2025\\nMileto Foods (Remote)\\nExcel, Power BI, SQL, Data Analytics, DAX\\n• Analyzed 50,000+ rows of multi-state sales data using Excel, SQL, and Power BI to track regional KPIs and customer analytics across\\n5+ states and 3 product lines, designing DAX-powered dashboards and automated Excel templates with VLOOKUP and pivot tables\\nthat improved demand forecasting accuracy by 15%, increased quarterly revenue visibility by 12%, and reduced weekly reporting time\\nby 35% across 20+ distribution points.\\nProjects\\nRAG AI Teaching Assistant | Python, OpenAI Whisper, BGE-M3, Ollama, Streamlit, FFmpeg\\nAugust 2025\\nLive Demo\\n• Engineered RAG-based video Q&A system with 6-stage pipeline achieving 85-90% query relevance accuracy and sub-3-second response\\ntime using Python, OpenAI Whisper, BGE-M3 embeddings, and Ollama LLM.\\n• Built production-ready Streamlit web application with semantic search capabilities handling multiple video formats, implementing\\ncosine similarity algorithms and integrating local Llama 3.2 model serving 1,000+ educational chunks.\\n• Constructed automated data processing pipeline utilizing FFmpeg for audio extraction, OpenAI Whisper for speech-to-text conversion,\\nreducing manual content indexing time by 95% and enabling instant access to video lecture information.\\nFraud Detection System | Python, Scikit-learn, Streamlit, Plotly, Ensemble Methods\\nJune 2025\\nLive Demo\\n• Implemented end-to-end fraud detection system using Python and Scikit-learn, training ensemble models on 1M+ financial\\ntransactions achieving 99.7% accuracy, 98.5% precision, and 97.8% recall metrics.\\n• Executed advanced feature engineering pipeline extracting 11 behavioral patterns from transaction data, reducing model training time\\nby 60% while improving AUC-ROC score from 0.92 to 0.992.\\n• Deployed interactive web application using Streamlit and Plotly enabling real-time fraud detection with intelligent alerts and risk\\nassessment dashboards serving 1,000+ predictions daily with 99.9% uptime SLA.\\nCredit Risk Prediction | Python, Scikit-learn, Extra Trees Classifier, Streamlit, Plotly\\nApril 2025\\nLive Demo\\n• Architected end-to-end ML pipeline for credit risk assessment using Python, Scikit-learn, and Extra Trees Classifier, achieving 78.5%\\naccuracy through feature engineering of 8 key financial indicators from 1,000+ credit records.\\n• Established production-ready Streamlit application with real-time prediction capabilities, interactive Plotly visualizations, and\\nintelligent risk recommendations processing 500+ monthly assessments with 99.9% uptime.\\n• Optimized credit evaluation time by 60% through mechanized risk scoring system with confidence intervals, enabling data-driven\\nlending decisions and improving loan approval consistency by 40%.\\nCertifications & Publications\\nOracle Data Science Professional Certification\\nSeptember 2025\\nOracle Cloud Infrastructure - Data Science Specialization\\nResearch Publication: YOLOv8 Pothole Detection System\\nApril 2025\\nComputer Vision & Deep Learning\\nSSRN\\nEducation\\nBachelor of Technology - Computer Science Engineering\\nExpected: 2026\\nVellore Institute of Technology, Bhopal\\nCGPA: 7.7/10.0')]"
      ]
     },
     "execution_count": 16,
     "metadata": {},
     "output_type": "execute_result"
    }
   ],
   "source": [
    "from langchain_community.document_loaders import PyMuPDFLoader, DirectoryLoader\n",
    "## load all the text files from the directory \n",
    "\n",
    "dir_loader=DirectoryLoader(\n",
    "    \"../data/pdf_files\",\n",
    "    glob=\"**/*.pdf\", ## pattern to match the files which exist \n",
    "    loader_cls = PyMuPDFLoader, ## loader class to use \n",
    "    show_progress=False\n",
    ")\n",
    "\n",
    "pdf_document = dir_loader.load()\n",
    "pdf_document"
   ]
  },
  {
   "cell_type": "code",
   "execution_count": 17,
   "id": "6c1f8e64",
   "metadata": {},
   "outputs": [
    {
     "data": {
      "text/plain": [
       "langchain_core.documents.base.Document"
      ]
     },
     "execution_count": 17,
     "metadata": {},
     "output_type": "execute_result"
    }
   ],
   "source": [
    "type(pdf_document[0])"
   ]
  },
  {
   "cell_type": "code",
   "execution_count": null,
   "id": "a0b209dd",
   "metadata": {},
   "outputs": [],
   "source": []
  }
 ],
 "metadata": {
  "kernelspec": {
   "display_name": "RAG",
   "language": "python",
   "name": "python3"
  },
  "language_info": {
   "codemirror_mode": {
    "name": "ipython",
    "version": 3
   },
   "file_extension": ".py",
   "mimetype": "text/x-python",
   "name": "python",
   "nbconvert_exporter": "python",
   "pygments_lexer": "ipython3",
   "version": "3.10.18"
  }
 },
 "nbformat": 4,
 "nbformat_minor": 5
}
