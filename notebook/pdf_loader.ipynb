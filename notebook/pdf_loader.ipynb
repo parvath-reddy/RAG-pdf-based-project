{
 "cells": [
  {
   "cell_type": "markdown",
   "id": "e8471442",
   "metadata": {},
   "source": [
    "# rag pipeline - data ingestion to vector DB PIPELINE"
   ]
  },
  {
   "cell_type": "code",
   "execution_count": 15,
   "id": "38d2ccde",
   "metadata": {},
   "outputs": [],
   "source": [
    "import os\n",
    "from langchain_community.document_loaders import PyPDFLoader, PyMuPDFLoader\n",
    "from langchain_text_splitters import RecursiveCharacterTextSplitter\n",
    "from pathlib import Path"
   ]
  },
  {
   "cell_type": "code",
   "execution_count": 16,
   "id": "d69e8bf2",
   "metadata": {},
   "outputs": [
    {
     "name": "stdout",
     "output_type": "stream",
     "text": [
      "\n",
      "Found 3 PDF files\n",
      "\n",
      "Processing: Parvath_Reddy_Quality_analyst.pdf\n",
      "Loaded 1 pages\n",
      "\n",
      "Processing: Parvath_Reddy_Machine_Learning_Engineer.pdf\n",
      "Loaded 1 pages\n",
      "\n",
      "Processing: ParvathReddy_DataScience_Resume.pdf\n",
      "Loaded 1 pages\n",
      "\n",
      "Total documents loaded: 3\n"
     ]
    }
   ],
   "source": [
    "## reading the pdfs \n",
    "def process_all_pdfs(pdf_directory):\n",
    "    \"\"\"process all the pdf files in a directory\"\"\"\n",
    "    all_documents = []\n",
    "    pdf_dir = Path(pdf_directory)  # Fixed: path -> Path\n",
    "\n",
    "    # find all pdfs recursively \n",
    "    pdf_files = list(pdf_dir.glob(\"**/*.pdf\"))\n",
    "    \n",
    "    print(f\"\\nFound {len(pdf_files)} PDF files\")  # Fixed: added count before loop\n",
    "\n",
    "    for pdf_file in pdf_files:  # Fixed: odf_files -> pdf_file, pdf_files -> pdf_file\n",
    "        try:\n",
    "            print(f\"\\nProcessing: {pdf_file.name}\")  # Fixed: moved inside loop\n",
    "            loader = PyPDFLoader(str(pdf_file))  # Fixed: pdf_files -> pdf_file\n",
    "            documents = loader.load()\n",
    "            \n",
    "            # add source information to metadata\n",
    "            for doc in documents:\n",
    "                doc.metadata['source_file'] = pdf_file.name  # Fixed: source_files -> source_file\n",
    "                doc.metadata['file_type'] = 'pdf'\n",
    "            \n",
    "            all_documents.extend(documents)  # Fixed: indentation\n",
    "            print(f\"Loaded {len(documents)} pages\")  # Fixed: indentation and spacing\n",
    "            \n",
    "        except Exception as e:\n",
    "            print(f\"Error processing {pdf_file.name}: {e}\")  # Fixed: added filename\n",
    "\n",
    "    print(f\"\\nTotal documents loaded: {len(all_documents)}\")  # Fixed: |n -> \\n\n",
    "    return all_documents \n",
    "\n",
    "all_pdf_documents = process_all_pdfs(\"../data\")"
   ]
  },
  {
   "cell_type": "code",
   "execution_count": 17,
   "id": "17ebcc0d",
   "metadata": {},
   "outputs": [],
   "source": [
    "### Text splitting get into chunks\n",
    "\n",
    "def split_documents(documents, chunk_size=1000, chunk_overlap=200):\n",
    "    \"\"\"Split documents into smaller chunks for better RAG performance\"\"\"\n",
    "    text_splitter = RecursiveCharacterTextSplitter(\n",
    "        chunk_size=chunk_size,\n",
    "        chunk_overlap=chunk_overlap,\n",
    "        length_function=len,\n",
    "        separators=[\"\\n\\n\", \"\\n\", \" \", \"\"]\n",
    "    )\n",
    "    \n",
    "    split_docs = text_splitter.split_documents(documents)\n",
    "    print(f\"Split {len(documents)} documents into {len(split_docs)} chunks\")\n",
    "    \n",
    "    # Show example of a chunk\n",
    "    if split_docs:\n",
    "        print(f\"\\nExample chunk:\")\n",
    "        print(f\"Content: {split_docs[0].page_content[:200]}...\")\n",
    "        print(f\"Metadata: {split_docs[0].metadata}\")\n",
    "    \n",
    "    return split_docs"
   ]
  },
  {
   "cell_type": "code",
   "execution_count": 18,
   "id": "331ec67a",
   "metadata": {},
   "outputs": [
    {
     "name": "stdout",
     "output_type": "stream",
     "text": [
      "Split 3 documents into 16 chunks\n",
      "\n",
      "Example chunk:\n",
      "Content: PARVATH REDDY\n",
      "Quality Analyst\n",
      "Bengaluru, KA|♂phone+91-7675043309/envel⌢peparvathreddy50@gmail.com/linkedinlinkedin.com/in/parvath-reddy\n",
      "Summary\n",
      "Quality Analyst with expertise in data validation, proce...\n",
      "Metadata: {'producer': 'pdfTeX-1.40.27', 'creator': 'LaTeX with hyperref', 'creationdate': '2025-09-16T04:28:48+00:00', 'author': '', 'keywords': '', 'moddate': '2025-09-16T04:28:48+00:00', 'ptex.fullbanner': 'This is pdfTeX, Version 3.141592653-2.6-1.40.27 (TeX Live 2025) kpathsea version 6.4.1', 'subject': '', 'title': '', 'trapped': '/False', 'source': '../data/pdf_files/Parvath_Reddy_Quality_analyst.pdf', 'total_pages': 1, 'page': 0, 'page_label': '1', 'source_file': 'Parvath_Reddy_Quality_analyst.pdf', 'file_type': 'pdf'}\n"
     ]
    },
    {
     "data": {
      "text/plain": [
       "[Document(metadata={'producer': 'pdfTeX-1.40.27', 'creator': 'LaTeX with hyperref', 'creationdate': '2025-09-16T04:28:48+00:00', 'author': '', 'keywords': '', 'moddate': '2025-09-16T04:28:48+00:00', 'ptex.fullbanner': 'This is pdfTeX, Version 3.141592653-2.6-1.40.27 (TeX Live 2025) kpathsea version 6.4.1', 'subject': '', 'title': '', 'trapped': '/False', 'source': '../data/pdf_files/Parvath_Reddy_Quality_analyst.pdf', 'total_pages': 1, 'page': 0, 'page_label': '1', 'source_file': 'Parvath_Reddy_Quality_analyst.pdf', 'file_type': 'pdf'}, page_content='PARVATH REDDY\\nQuality Analyst\\nBengaluru, KA|♂phone+91-7675043309/envel⌢peparvathreddy50@gmail.com/linkedinlinkedin.com/in/parvath-reddy\\nSummary\\nQuality Analyst with expertise in data validation, process improvement, and quality assurance methodologies.\\nProficient in SQL, Python, and statistical analysis for identifying defects, ensuring data integrity, and implementing\\nquality control measures to enhance operational efficiency and reduce error rates.\\nSkills\\nQuality Assurance:Test Case Design, Defect Management, Root Cause Analysis, Quality Control, Process\\nValidation, Compliance Testing\\nTechnical:SQL, Python, Excel, Statistical Analysis, Data Validation, Quality Metrics, MySQL, PostgreSQL,\\nPower BI, Test Automation\\nExperience\\nQuality Analyst InternMay 2025 – July 2025\\nMileto Foods (Remote) Tools Used: Excel, SQL, Power BI, Statistical Analysis\\n•Performed comprehensive quality auditsacross 5+ state operations, validating data integrity and process'),\n",
       " Document(metadata={'producer': 'pdfTeX-1.40.27', 'creator': 'LaTeX with hyperref', 'creationdate': '2025-09-16T04:28:48+00:00', 'author': '', 'keywords': '', 'moddate': '2025-09-16T04:28:48+00:00', 'ptex.fullbanner': 'This is pdfTeX, Version 3.141592653-2.6-1.40.27 (TeX Live 2025) kpathsea version 6.4.1', 'subject': '', 'title': '', 'trapped': '/False', 'source': '../data/pdf_files/Parvath_Reddy_Quality_analyst.pdf', 'total_pages': 1, 'page': 0, 'page_label': '1', 'source_file': 'Parvath_Reddy_Quality_analyst.pdf', 'file_type': 'pdf'}, page_content='Mileto Foods (Remote) Tools Used: Excel, SQL, Power BI, Statistical Analysis\\n•Performed comprehensive quality auditsacross 5+ state operations, validating data integrity and process\\ncompliance, achieving99.2% data accuracythrough systematic validation procedures.\\n•Implemented quality control frameworks with automated Excel validation templates,reducing data entry errors by\\n40%across 20+ distribution points.\\n•Enhanced quality monitoring by creating Power BI dashboards with quality KPIs, improvingdefect detection rate\\nby 25%for proactive quality management.\\nProjects\\nVendor Quality Assessment & Process Validation|Quality Control, SQL, Statistical AnalysisApril 2025 GitHub\\n–Conducted end-to-end quality assessmentof 1M+ transaction records using SQL and Python, identifying 95% of\\ncritical quality issues and preventing$418K in potential quality-related losses.\\n–Designed quality dashboard with 15+ quality metrics tracking defect rates and compliance scores, reducing quality'),\n",
       " Document(metadata={'producer': 'pdfTeX-1.40.27', 'creator': 'LaTeX with hyperref', 'creationdate': '2025-09-16T04:28:48+00:00', 'author': '', 'keywords': '', 'moddate': '2025-09-16T04:28:48+00:00', 'ptex.fullbanner': 'This is pdfTeX, Version 3.141592653-2.6-1.40.27 (TeX Live 2025) kpathsea version 6.4.1', 'subject': '', 'title': '', 'trapped': '/False', 'source': '../data/pdf_files/Parvath_Reddy_Quality_analyst.pdf', 'total_pages': 1, 'page': 0, 'page_label': '1', 'source_file': 'Parvath_Reddy_Quality_analyst.pdf', 'file_type': 'pdf'}, page_content='critical quality issues and preventing$418K in potential quality-related losses.\\n–Designed quality dashboard with 15+ quality metrics tracking defect rates and compliance scores, reducing quality\\nanalysis time to real-time monitoring.\\n–Delivered quality improvement recommendations achieving 15-20% reduction in defect rates through systematic root\\ncause analysis and vendor standardization.\\nBanking Data Quality & Compliance Testing|Data Validation, Quality Assurance, SQLMarch 2025 GitHub\\n–Executed comprehensive data quality testingacross banking systems, validating 3,000 customer records and\\nensuring 99.5% accuracy in$43.8M loan portfolio through systematic quality checks.\\n–Developed quality assurance framework with validation rules and compliance metrics, implementing quality gates that\\nimproved data quality score by 95%.\\n–Established predictive quality monitoring analyzing 15-year patterns, enabling early detection of quality issues and\\npreventive measures for data integrity.'),\n",
       " Document(metadata={'producer': 'pdfTeX-1.40.27', 'creator': 'LaTeX with hyperref', 'creationdate': '2025-09-16T04:28:48+00:00', 'author': '', 'keywords': '', 'moddate': '2025-09-16T04:28:48+00:00', 'ptex.fullbanner': 'This is pdfTeX, Version 3.141592653-2.6-1.40.27 (TeX Live 2025) kpathsea version 6.4.1', 'subject': '', 'title': '', 'trapped': '/False', 'source': '../data/pdf_files/Parvath_Reddy_Quality_analyst.pdf', 'total_pages': 1, 'page': 0, 'page_label': '1', 'source_file': 'Parvath_Reddy_Quality_analyst.pdf', 'file_type': 'pdf'}, page_content='improved data quality score by 95%.\\n–Established predictive quality monitoring analyzing 15-year patterns, enabling early detection of quality issues and\\npreventive measures for data integrity.\\nSales Data Quality & Integrity Validation|Data Quality Testing, Process Validation, SQLDecember 2024 GitHub\\n–Performed comprehensive data quality assessmenton 5+ sales datasets, implementing validation protocols\\nachieving 98% data consistency across 5-year historical records.\\n–Created quality monitoring dashboard with automated anomaly detection, identifying data quality issues in real-time and\\nimproving data reliability by 35%.\\n–Delivered quality assurance recommendations for data governance, establishing standards that reduced data\\ninconsistencies by 40% for executive reporting.\\nEducation\\nBachelor of Technology - Computer Science EngineeringExpected: 2026\\nVellore Institute of Technology, Bhopal CGPA: 7.7/10.0'),\n",
       " Document(metadata={'producer': 'pdfTeX-1.40.26', 'creator': 'LaTeX with hyperref', 'creationdate': '2025-09-21T16:04:52+00:00', 'author': '', 'keywords': '', 'moddate': '2025-09-21T16:04:52+00:00', 'ptex.fullbanner': 'This is pdfTeX, Version 3.141592653-2.6-1.40.26 (TeX Live 2024) kpathsea version 6.4.0', 'subject': '', 'title': '', 'trapped': '/False', 'source': '../data/pdf_files/Parvath_Reddy_Machine_Learning_Engineer.pdf', 'total_pages': 1, 'page': 0, 'page_label': '1', 'source_file': 'Parvath_Reddy_Machine_Learning_Engineer.pdf', 'file_type': 'pdf'}, page_content='PARVATH REDDY\\nMachine Learning Engineer\\nBengaluru, KA | ♂phone+91-7675043309 /envel⌢peparvathreddy50@gmail.com /linkedinlinkedin.com/in/parvath-reddy /githubgithub.com/parvath-reddy\\nSummary\\nMachine Learning Engineer with expertise in building production-ready ML systems, deep learning models, and RAG-based\\napplications. Proficient in Python, TensorFlow, PyTorch, and MLOps, with experience deploying scalable models and\\ncomputer vision solutions achieving 95% accuracy.\\nTechnical Skills\\nMachine Learning: Scikit-learn, XGBoost, LightGBM, Random Forest, SVM, Ensemble Methods\\nDeep Learning & AI:TensorFlow, PyTorch, Keras, OpenAI API, Transformers, LSTM, CNN\\nComputer Vision & NLP:OpenCV, YOLO, Object Detection, OpenAI Whisper, RAG, Embeddings\\nMLOps & Deployment:Streamlit, Docker, Model Versioning, Pipeline Optimization\\nProgramming & Tools:Python, SQL, Git, Jupyter, Pandas, NumPy, Matplotlib, Seaborn\\nDatabases: MySQL, PostgreSQL, Vector Databases, Statistical Modeling\\nExperience'),\n",
       " Document(metadata={'producer': 'pdfTeX-1.40.26', 'creator': 'LaTeX with hyperref', 'creationdate': '2025-09-21T16:04:52+00:00', 'author': '', 'keywords': '', 'moddate': '2025-09-21T16:04:52+00:00', 'ptex.fullbanner': 'This is pdfTeX, Version 3.141592653-2.6-1.40.26 (TeX Live 2024) kpathsea version 6.4.0', 'subject': '', 'title': '', 'trapped': '/False', 'source': '../data/pdf_files/Parvath_Reddy_Machine_Learning_Engineer.pdf', 'total_pages': 1, 'page': 0, 'page_label': '1', 'source_file': 'Parvath_Reddy_Machine_Learning_Engineer.pdf', 'file_type': 'pdf'}, page_content='Programming & Tools:Python, SQL, Git, Jupyter, Pandas, NumPy, Matplotlib, Seaborn\\nDatabases: MySQL, PostgreSQL, Vector Databases, Statistical Modeling\\nExperience\\nMachine Learning Intern February 2025 – April 2025\\nMileto Foods (Remote) ML Tools: Python, Scikit-learn, SQL, Statistical Analysis\\n• Constructed predictive analytics models on 50,000+ multi-state sales records using Python and Scikit-learn, applying time\\nseries forecasting algorithms that enhanced demand prediction accuracy by 15% across 5 regional markets.\\n• Designed feature engineering pipeline with statistical analysis techniques, creating 12+ predictive features for inventory\\noptimization models, decreasing forecasting error by 25% and enabling proactive supply chain decisions.\\n• Delivered machine learning insights through systematic reporting systems using statistical modeling and regression analysis,\\nproviding actionable predictions that boosted revenue forecasting precision by 12% for strategic planning.'),\n",
       " Document(metadata={'producer': 'pdfTeX-1.40.26', 'creator': 'LaTeX with hyperref', 'creationdate': '2025-09-21T16:04:52+00:00', 'author': '', 'keywords': '', 'moddate': '2025-09-21T16:04:52+00:00', 'ptex.fullbanner': 'This is pdfTeX, Version 3.141592653-2.6-1.40.26 (TeX Live 2024) kpathsea version 6.4.0', 'subject': '', 'title': '', 'trapped': '/False', 'source': '../data/pdf_files/Parvath_Reddy_Machine_Learning_Engineer.pdf', 'total_pages': 1, 'page': 0, 'page_label': '1', 'source_file': 'Parvath_Reddy_Machine_Learning_Engineer.pdf', 'file_type': 'pdf'}, page_content='providing actionable predictions that boosted revenue forecasting precision by 12% for strategic planning.\\nMachine Learning Projects\\nRAG AI Teaching Assistant | NLP, Embeddings, LLM, Vector Search, Production ML August 2025 Live Demo\\n– Developed production-grade RAG system with advanced NLP pipeline achieving 90% semantic accuracy using BGE-M3\\nembeddings, vector similarity search, and Llama 3.2 LLM integration with sub-3-second inference time.\\n– Executed end-to-end ML pipeline with speech recognition (OpenAI Whisper), text preprocessing, and semantic chunking\\nalgorithms, processing 1,000+ educational segments with 95% content extraction accuracy.\\n– Launched scalable ML application using Streamlit with cosine similarity algorithms, vector database integration, and real-time\\nmodel serving infrastructure handling 500+ daily ML inference requests .\\nFinancial Fraud Detection ML System | Ensemble Methods, Feature Engineering, Production ML June 2025 Live Demo'),\n",
       " Document(metadata={'producer': 'pdfTeX-1.40.26', 'creator': 'LaTeX with hyperref', 'creationdate': '2025-09-21T16:04:52+00:00', 'author': '', 'keywords': '', 'moddate': '2025-09-21T16:04:52+00:00', 'ptex.fullbanner': 'This is pdfTeX, Version 3.141592653-2.6-1.40.26 (TeX Live 2024) kpathsea version 6.4.0', 'subject': '', 'title': '', 'trapped': '/False', 'source': '../data/pdf_files/Parvath_Reddy_Machine_Learning_Engineer.pdf', 'total_pages': 1, 'page': 0, 'page_label': '1', 'source_file': 'Parvath_Reddy_Machine_Learning_Engineer.pdf', 'file_type': 'pdf'}, page_content='model serving infrastructure handling 500+ daily ML inference requests .\\nFinancial Fraud Detection ML System | Ensemble Methods, Feature Engineering, Production ML June 2025 Live Demo\\n– Constructed high-performance ensemble ML model using XGBoost, Random Forest, and Gradient Boosting on 1M+ transaction\\ndataset, achieving 99.7% accuracy, 98.5% precision with advanced hyperparameter tuning and cross-validation.\\n– Designed sophisticated feature extraction pipeline creating 15+ behavioral and statistical features including transaction\\nvelocity, anomaly scores, and temporal patterns, elevating model AUC-ROC from 0.85 to 0.992 .\\n– Delivered real-time ML inference system with performance monitoring, A/B testing framework, and performance tracking, serving\\n1,000+ predictions daily with 99.9% uptime and model retraining capabilities.\\nCredit Risk ML Prediction Engine | Tree-based Models, Risk Analytics, Model Deployment April 2025 Live Demo'),\n",
       " Document(metadata={'producer': 'pdfTeX-1.40.26', 'creator': 'LaTeX with hyperref', 'creationdate': '2025-09-21T16:04:52+00:00', 'author': '', 'keywords': '', 'moddate': '2025-09-21T16:04:52+00:00', 'ptex.fullbanner': 'This is pdfTeX, Version 3.141592653-2.6-1.40.26 (TeX Live 2024) kpathsea version 6.4.0', 'subject': '', 'title': '', 'trapped': '/False', 'source': '../data/pdf_files/Parvath_Reddy_Machine_Learning_Engineer.pdf', 'total_pages': 1, 'page': 0, 'page_label': '1', 'source_file': 'Parvath_Reddy_Machine_Learning_Engineer.pdf', 'file_type': 'pdf'}, page_content='1,000+ predictions daily with 99.9% uptime and model retraining capabilities.\\nCredit Risk ML Prediction Engine | Tree-based Models, Risk Analytics, Model Deployment April 2025 Live Demo\\n– Established robust credit risk assessment ML model using Extra Trees Classifier with advanced feature selection techniques,\\nachieving 85% accuracy and 0.88 AUC-ROC score through ensemble learning and model stacking approaches.\\n– Executed comprehensive feature engineering workflow extracting 12 financial risk indicators with statistical validation,\\ncorrelation analysis, and feature importance ranking, improving model interpretability by 40%.\\n– Launched production ML system with model serving, confidence scoring, and drift detection mechanisms, processing 500+ risk\\nassessments monthly with real-time prediction capabilities and model performance monitoring.\\nResearch & Publications\\nComputer Vision Research: YOLOv8 Pothole Detection System April 2025'),\n",
       " Document(metadata={'producer': 'pdfTeX-1.40.26', 'creator': 'LaTeX with hyperref', 'creationdate': '2025-09-21T16:04:52+00:00', 'author': '', 'keywords': '', 'moddate': '2025-09-21T16:04:52+00:00', 'ptex.fullbanner': 'This is pdfTeX, Version 3.141592653-2.6-1.40.26 (TeX Live 2024) kpathsea version 6.4.0', 'subject': '', 'title': '', 'trapped': '/False', 'source': '../data/pdf_files/Parvath_Reddy_Machine_Learning_Engineer.pdf', 'total_pages': 1, 'page': 0, 'page_label': '1', 'source_file': 'Parvath_Reddy_Machine_Learning_Engineer.pdf', 'file_type': 'pdf'}, page_content='assessments monthly with real-time prediction capabilities and model performance monitoring.\\nResearch & Publications\\nComputer Vision Research: YOLOv8 Pothole Detection System April 2025\\nDeep Learning & Object Detection - 92.5% Precision Achievement Published on SSRN\\nEducation\\nBachelor of Technology - Computer Science Engineering Expected: 2026\\nVellore Institute of Technology, Bhopal CGPA: 7.7/10.0'),\n",
       " Document(metadata={'producer': 'pdfTeX-1.40.27', 'creator': 'LaTeX with hyperref', 'creationdate': '2025-10-03T21:17:13+00:00', 'author': '', 'keywords': '', 'moddate': '2025-10-03T21:17:13+00:00', 'ptex.fullbanner': 'This is pdfTeX, Version 3.141592653-2.6-1.40.27 (TeX Live 2025) kpathsea version 6.4.1', 'subject': '', 'title': '', 'trapped': '/False', 'source': '../data/pdf_files/ParvathReddy_DataScience_Resume.pdf', 'total_pages': 1, 'page': 0, 'page_label': '1', 'source_file': 'ParvathReddy_DataScience_Resume.pdf', 'file_type': 'pdf'}, page_content='PARVATH REDDY\\nData Scientist\\nBengaluru, KA|+91-7675043309|parvathreddy50@gmail.com |linkedin.com/in/parvath-reddy |github.com/parvath-reddy\\nSummary\\nData Scientist skilled in machine learning, deep learning, and AI development with internship experience in analytics. Hands-on\\nexpertise in building production-ready ML systems, RAG-based applications, and financial risk models. Strong foundation in\\nPython, SQL, and advanced analytics to deliver data-driven business solutions.\\nSkills\\nProgramming:Python, SQL, R, JavaScript\\nML/DL & AI:Scikit-learn, XGBoost, TensorFlow, PyTorch, OpenAI API, RAG, NLP\\nData Science:Pandas, NumPy, Matplotlib, Seaborn, Plotly, Jupyter, Streamlit\\nDatabases & Analytics:MySQL, PostgreSQL, Statistical Modeling, A/B Testing\\nExperience\\nData Science Intern August 2025 – September 2025\\nCodSoft (Remote) Python, Scikit-learn, Random Forest, SMOTE, Regression Analysis'),\n",
       " Document(metadata={'producer': 'pdfTeX-1.40.27', 'creator': 'LaTeX with hyperref', 'creationdate': '2025-10-03T21:17:13+00:00', 'author': '', 'keywords': '', 'moddate': '2025-10-03T21:17:13+00:00', 'ptex.fullbanner': 'This is pdfTeX, Version 3.141592653-2.6-1.40.27 (TeX Live 2025) kpathsea version 6.4.1', 'subject': '', 'title': '', 'trapped': '/False', 'source': '../data/pdf_files/ParvathReddy_DataScience_Resume.pdf', 'total_pages': 1, 'page': 0, 'page_label': '1', 'source_file': 'ParvathReddy_DataScience_Resume.pdf', 'file_type': 'pdf'}, page_content='Experience\\nData Science Intern August 2025 – September 2025\\nCodSoft (Remote) Python, Scikit-learn, Random Forest, SMOTE, Regression Analysis\\n•Developed machine learning models for fraud detection and movie rating prediction using Python, Scikit-learn, and ensemble methods\\non 289,000+ transactions and 5,000+ films, achieving 95%+ precision, 95%+ recall, and 0.8 RMSE through advanced feature\\nengineering, SMOTE oversampling, hyperparameter tuning, and cross-validation techniques that improved sales forecast accuracy by\\n85%.\\nData Analyst Intern February 2025 – April 2025\\nMileto Foods (Remote) Excel, Power BI, SQL, Data Analytics, DAX\\n•Analyzed 50,000+ rows of multi-state sales data using Excel, SQL, and Power BI to track regional KPIs and customer analytics across\\n5+ states and 3 product lines, designing DAX-powered dashboards and automated Excel templates with VLOOKUP and pivot tables'),\n",
       " Document(metadata={'producer': 'pdfTeX-1.40.27', 'creator': 'LaTeX with hyperref', 'creationdate': '2025-10-03T21:17:13+00:00', 'author': '', 'keywords': '', 'moddate': '2025-10-03T21:17:13+00:00', 'ptex.fullbanner': 'This is pdfTeX, Version 3.141592653-2.6-1.40.27 (TeX Live 2025) kpathsea version 6.4.1', 'subject': '', 'title': '', 'trapped': '/False', 'source': '../data/pdf_files/ParvathReddy_DataScience_Resume.pdf', 'total_pages': 1, 'page': 0, 'page_label': '1', 'source_file': 'ParvathReddy_DataScience_Resume.pdf', 'file_type': 'pdf'}, page_content='5+ states and 3 product lines, designing DAX-powered dashboards and automated Excel templates with VLOOKUP and pivot tables\\nthat improved demand forecasting accuracy by 15%, increased quarterly revenue visibility by 12%, and reduced weekly reporting time\\nby 35% across 20+ distribution points.\\nProjects\\nRAG AI Teaching Assistant|Python, OpenAI Whisper, BGE-M3, Ollama, Streamlit, FFmpegAugust 2025 Live Demo\\n•Engineered RAG-based video Q&A system with 6-stage pipeline achieving 85-90% query relevance accuracy and sub-3-second response\\ntime using Python, OpenAI Whisper, BGE-M3 embeddings, and Ollama LLM.\\n•Built production-ready Streamlit web application with semantic search capabilities handling multiple video formats, implementing\\ncosine similarity algorithms and integrating local Llama 3.2 model serving 1,000+ educational chunks.\\n•Constructed automated data processing pipeline utilizing FFmpeg for audio extraction, OpenAI Whisper for speech-to-text conversion,'),\n",
       " Document(metadata={'producer': 'pdfTeX-1.40.27', 'creator': 'LaTeX with hyperref', 'creationdate': '2025-10-03T21:17:13+00:00', 'author': '', 'keywords': '', 'moddate': '2025-10-03T21:17:13+00:00', 'ptex.fullbanner': 'This is pdfTeX, Version 3.141592653-2.6-1.40.27 (TeX Live 2025) kpathsea version 6.4.1', 'subject': '', 'title': '', 'trapped': '/False', 'source': '../data/pdf_files/ParvathReddy_DataScience_Resume.pdf', 'total_pages': 1, 'page': 0, 'page_label': '1', 'source_file': 'ParvathReddy_DataScience_Resume.pdf', 'file_type': 'pdf'}, page_content='•Constructed automated data processing pipeline utilizing FFmpeg for audio extraction, OpenAI Whisper for speech-to-text conversion,\\nreducing manual content indexing time by 95% and enabling instant access to video lecture information.\\nFraud Detection System|Python, Scikit-learn, Streamlit, Plotly, Ensemble MethodsJune 2025 Live Demo\\n•Implemented end-to-end fraud detection system using Python and Scikit-learn, training ensemble models on 1M+ financial\\ntransactions achieving 99.7% accuracy, 98.5% precision, and 97.8% recall metrics.\\n•Executed advanced feature engineering pipeline extracting 11 behavioral patterns from transaction data, reducing model training time\\nby 60% while improving AUC-ROC score from 0.92 to 0.992.\\n•Deployed interactive web application using Streamlit and Plotly enabling real-time fraud detection with intelligent alerts and risk\\nassessment dashboards serving 1,000+ predictions daily with 99.9% uptime SLA.'),\n",
       " Document(metadata={'producer': 'pdfTeX-1.40.27', 'creator': 'LaTeX with hyperref', 'creationdate': '2025-10-03T21:17:13+00:00', 'author': '', 'keywords': '', 'moddate': '2025-10-03T21:17:13+00:00', 'ptex.fullbanner': 'This is pdfTeX, Version 3.141592653-2.6-1.40.27 (TeX Live 2025) kpathsea version 6.4.1', 'subject': '', 'title': '', 'trapped': '/False', 'source': '../data/pdf_files/ParvathReddy_DataScience_Resume.pdf', 'total_pages': 1, 'page': 0, 'page_label': '1', 'source_file': 'ParvathReddy_DataScience_Resume.pdf', 'file_type': 'pdf'}, page_content='assessment dashboards serving 1,000+ predictions daily with 99.9% uptime SLA.\\nCredit Risk Prediction|Python, Scikit-learn, Extra Trees Classifier, Streamlit, PlotlyApril 2025 Live Demo\\n•Architected end-to-end ML pipeline for credit risk assessment using Python, Scikit-learn, and Extra Trees Classifier, achieving 78.5%\\naccuracy through feature engineering of 8 key financial indicators from 1,000+ credit records.\\n•Established production-ready Streamlit application with real-time prediction capabilities, interactive Plotly visualizations, and\\nintelligent risk recommendations processing 500+ monthly assessments with 99.9% uptime.\\n•Optimized credit evaluation time by 60% through mechanized risk scoring system with confidence intervals, enabling data-driven\\nlending decisions and improving loan approval consistency by 40%.\\nCertifications & Publications\\nOracle Data Science Professional CertificationSeptember 2025\\nOracle Cloud Infrastructure - Data Science Specialization'),\n",
       " Document(metadata={'producer': 'pdfTeX-1.40.27', 'creator': 'LaTeX with hyperref', 'creationdate': '2025-10-03T21:17:13+00:00', 'author': '', 'keywords': '', 'moddate': '2025-10-03T21:17:13+00:00', 'ptex.fullbanner': 'This is pdfTeX, Version 3.141592653-2.6-1.40.27 (TeX Live 2025) kpathsea version 6.4.1', 'subject': '', 'title': '', 'trapped': '/False', 'source': '../data/pdf_files/ParvathReddy_DataScience_Resume.pdf', 'total_pages': 1, 'page': 0, 'page_label': '1', 'source_file': 'ParvathReddy_DataScience_Resume.pdf', 'file_type': 'pdf'}, page_content='Certifications & Publications\\nOracle Data Science Professional CertificationSeptember 2025\\nOracle Cloud Infrastructure - Data Science Specialization\\nResearch Publication: YOLOv8 Pothole Detection SystemApril 2025\\nComputer Vision & Deep Learning SSRN\\nEducation\\nBachelor of Technology - Computer Science EngineeringExpected: 2026\\nVellore Institute of Technology, Bhopal CGPA: 7.7/10.0')]"
      ]
     },
     "execution_count": 18,
     "metadata": {},
     "output_type": "execute_result"
    }
   ],
   "source": [
    "chunks=split_documents(all_pdf_documents)\n",
    "chunks"
   ]
  },
  {
   "cell_type": "markdown",
   "id": "2e88b0e6",
   "metadata": {},
   "source": [
    "## embadings and vectorstoredb"
   ]
  },
  {
   "cell_type": "code",
   "execution_count": 19,
   "id": "ac224b1c",
   "metadata": {},
   "outputs": [],
   "source": [
    "import numpy as np\n",
    "from sentence_transformers import SentenceTransformer\n",
    "import chromadb\n",
    "from chromadb.config import Settings\n",
    "import uuid\n",
    "from typing import List, Dict, Any, Tuple\n",
    "from sklearn.metrics.pairwise import cosine_similarity"
   ]
  },
  {
   "cell_type": "code",
   "execution_count": 20,
   "id": "2602f587",
   "metadata": {},
   "outputs": [
    {
     "name": "stdout",
     "output_type": "stream",
     "text": [
      "Model 'all-MiniLM-L6-v2' loaded successfully.\n",
      "Model loaded successfully. Embedding dimensions: 384\n",
      "Generating embeddings for 2 texts...\n"
     ]
    },
    {
     "name": "stderr",
     "output_type": "stream",
     "text": [
      "Batches: 100%|██████████| 1/1 [00:00<00:00,  3.53it/s]"
     ]
    },
    {
     "name": "stdout",
     "output_type": "stream",
     "text": [
      "Generated embeddings with shape: (2, 384)\n",
      "Final embeddings shape: (2, 384)\n"
     ]
    },
    {
     "name": "stderr",
     "output_type": "stream",
     "text": [
      "\n"
     ]
    }
   ],
   "source": [
    "class EmbeddingManager:\n",
    "    \"\"\"Handling documents embedding generation using SentenceTransformer\"\"\"\n",
    "\n",
    "    def __init__(self, model_name: str = \"all-MiniLM-L6-v2\"):\n",
    "        \"\"\"\n",
    "        Initializes the embedding manager\n",
    "\n",
    "        Args:\n",
    "            model_name: HuggingFace model name from sentence-transformers\n",
    "        \"\"\"\n",
    "        self.model_name = model_name\n",
    "        self.model = None\n",
    "        self._load_model()\n",
    "\n",
    "    def _load_model(self):\n",
    "        \"\"\"Loads the SentenceTransformer model.\"\"\"\n",
    "        try:\n",
    "            self.model = SentenceTransformer(self.model_name)\n",
    "            print(f\"Model '{self.model_name}' loaded successfully.\")\n",
    "            print(f\"Model loaded successfully. Embedding dimensions: {self.model.get_sentence_embedding_dimension()}\")\n",
    "        except Exception as e:\n",
    "            print(f\"Error loading model: {e}\")\n",
    "\n",
    "    def generate_embeddings(self, texts: List[str]) -> np.ndarray:\n",
    "        \"\"\"\n",
    "        Generate embeddings for a list of texts\n",
    "        Args:\n",
    "            texts: List of text strings to embed\n",
    "        Returns:\n",
    "            numpy array of embeddings with shape (len(texts), embedding_dim)\n",
    "        \"\"\"\n",
    "        if not self.model:\n",
    "            raise ValueError(\"Model not loaded\")\n",
    "        print(f\"Generating embeddings for {len(texts)} texts...\")\n",
    "        embeddings = self.model.encode(texts, show_progress_bar=True)\n",
    "        print(f\"Generated embeddings with shape: {embeddings.shape}\")\n",
    "        return embeddings\n",
    "\n",
    "\n",
    "# Initializing the embedding manager\n",
    "embedding_manager = EmbeddingManager()\n",
    "\n",
    "# Test it\n",
    "sample_texts = [\"Hello world\", \"This is a test\"]\n",
    "embeddings = embedding_manager.generate_embeddings(sample_texts)\n",
    "print(f\"Final embeddings shape: {embeddings.shape}\")"
   ]
  },
  {
   "cell_type": "code",
   "execution_count": 21,
   "id": "02d90eae",
   "metadata": {},
   "outputs": [
    {
     "name": "stdout",
     "output_type": "stream",
     "text": [
      "Vector store initialized. Collection: pdf_documents\n",
      "Existing documents in collection: 16\n",
      "<__main__.VectorStore object at 0x116e5d540>\n"
     ]
    }
   ],
   "source": [
    "import os\n",
    "import uuid\n",
    "from typing import List, Any\n",
    "import numpy as np\n",
    "import chromadb\n",
    "\n",
    "class VectorStore:\n",
    "    \"\"\"Manages document embeddings in a ChromaDB vector store\"\"\"\n",
    "    \n",
    "    def __init__(self, collection_name: str = \"pdf_documents\", persist_directory: str = \"../data/vector_store\"):\n",
    "        \"\"\"\n",
    "        Initialize the vector store\n",
    "        \n",
    "        Args:\n",
    "            collection_name: Name of the ChromaDB collection\n",
    "            persist_directory: Directory to persist the vector store\n",
    "        \"\"\"\n",
    "        self.collection_name = collection_name\n",
    "        self.persist_directory = persist_directory\n",
    "        self.client = None\n",
    "        self.collection = None\n",
    "        self._initialize_store()\n",
    "\n",
    "    def _initialize_store(self):\n",
    "        \"\"\"Initialize ChromaDB client and collection\"\"\"\n",
    "        try:\n",
    "            # Create persistent ChromaDB client\n",
    "            os.makedirs(self.persist_directory, exist_ok=True)\n",
    "            self.client = chromadb.PersistentClient(path=self.persist_directory)\n",
    "            \n",
    "            # Get or create collection WITH COSINE SIMILARITY\n",
    "            self.collection = self.client.get_or_create_collection(\n",
    "                name=self.collection_name,\n",
    "                metadata={\n",
    "                    \"description\": \"PDF document embeddings for RAG\",\n",
    "                    \"hnsw:space\": \"cosine\"  # ← THIS IS THE FIX\n",
    "                }\n",
    "            )\n",
    "            print(f\"Vector store initialized. Collection: {self.collection_name}\")\n",
    "            print(f\"Existing documents in collection: {self.collection.count()}\")\n",
    "            \n",
    "        except Exception as e:\n",
    "            print(f\"Error initializing vector store: {e}\")\n",
    "            raise\n",
    "\n",
    "    def add_documents(self, documents: List[Any], embeddings: np.ndarray):\n",
    "        \"\"\"\n",
    "        Add documents and their embeddings to the vector store\n",
    "        \n",
    "        Args:\n",
    "            documents: List of LangChain documents\n",
    "            embeddings: Corresponding embeddings for the documents\n",
    "        \"\"\"\n",
    "        if len(documents) != len(embeddings):\n",
    "            raise ValueError(\"Number of documents must match number of embeddings\")\n",
    "        \n",
    "        print(f\"Adding {len(documents)} documents to vector store...\")\n",
    "        \n",
    "        # Prepare data for ChromaDB\n",
    "        ids = []\n",
    "        metadatas = []\n",
    "        documents_text = []\n",
    "        embeddings_list = []\n",
    "        \n",
    "        for i, (doc, embedding) in enumerate(zip(documents, embeddings)):\n",
    "            # Generate unique ID\n",
    "            doc_id = f\"doc_{uuid.uuid4().hex[:8]}_{i}\"\n",
    "            ids.append(doc_id)\n",
    "            \n",
    "            # Prepare metadata\n",
    "            metadata = dict(doc.metadata)\n",
    "            metadata['doc_index'] = i\n",
    "            metadata['content_length'] = len(doc.page_content)\n",
    "            metadatas.append(metadata)\n",
    "            \n",
    "            # Document content\n",
    "            documents_text.append(doc.page_content)\n",
    "            \n",
    "            # Embedding\n",
    "            embeddings_list.append(embedding.tolist())\n",
    "        \n",
    "        # Add to collection\n",
    "        try:\n",
    "            self.collection.add(\n",
    "                ids=ids,\n",
    "                embeddings=embeddings_list,\n",
    "                metadatas=metadatas,\n",
    "                documents=documents_text\n",
    "            )\n",
    "            print(f\"Successfully added {len(documents)} documents to vector store\")\n",
    "            print(f\"Total documents in collection: {self.collection.count()}\")\n",
    "            \n",
    "        except Exception as e:\n",
    "            print(f\"Error adding documents to vector store: {e}\")\n",
    "            raise\n",
    "\n",
    "# Initialize the vector store\n",
    "vectorstore = VectorStore()\n",
    "print(vectorstore)"
   ]
  },
  {
   "cell_type": "code",
   "execution_count": 22,
   "id": "19410706",
   "metadata": {},
   "outputs": [
    {
     "data": {
      "text/plain": [
       "[Document(metadata={'producer': 'pdfTeX-1.40.27', 'creator': 'LaTeX with hyperref', 'creationdate': '2025-09-16T04:28:48+00:00', 'author': '', 'keywords': '', 'moddate': '2025-09-16T04:28:48+00:00', 'ptex.fullbanner': 'This is pdfTeX, Version 3.141592653-2.6-1.40.27 (TeX Live 2025) kpathsea version 6.4.1', 'subject': '', 'title': '', 'trapped': '/False', 'source': '../data/pdf_files/Parvath_Reddy_Quality_analyst.pdf', 'total_pages': 1, 'page': 0, 'page_label': '1', 'source_file': 'Parvath_Reddy_Quality_analyst.pdf', 'file_type': 'pdf'}, page_content='PARVATH REDDY\\nQuality Analyst\\nBengaluru, KA|♂phone+91-7675043309/envel⌢peparvathreddy50@gmail.com/linkedinlinkedin.com/in/parvath-reddy\\nSummary\\nQuality Analyst with expertise in data validation, process improvement, and quality assurance methodologies.\\nProficient in SQL, Python, and statistical analysis for identifying defects, ensuring data integrity, and implementing\\nquality control measures to enhance operational efficiency and reduce error rates.\\nSkills\\nQuality Assurance:Test Case Design, Defect Management, Root Cause Analysis, Quality Control, Process\\nValidation, Compliance Testing\\nTechnical:SQL, Python, Excel, Statistical Analysis, Data Validation, Quality Metrics, MySQL, PostgreSQL,\\nPower BI, Test Automation\\nExperience\\nQuality Analyst InternMay 2025 – July 2025\\nMileto Foods (Remote) Tools Used: Excel, SQL, Power BI, Statistical Analysis\\n•Performed comprehensive quality auditsacross 5+ state operations, validating data integrity and process'),\n",
       " Document(metadata={'producer': 'pdfTeX-1.40.27', 'creator': 'LaTeX with hyperref', 'creationdate': '2025-09-16T04:28:48+00:00', 'author': '', 'keywords': '', 'moddate': '2025-09-16T04:28:48+00:00', 'ptex.fullbanner': 'This is pdfTeX, Version 3.141592653-2.6-1.40.27 (TeX Live 2025) kpathsea version 6.4.1', 'subject': '', 'title': '', 'trapped': '/False', 'source': '../data/pdf_files/Parvath_Reddy_Quality_analyst.pdf', 'total_pages': 1, 'page': 0, 'page_label': '1', 'source_file': 'Parvath_Reddy_Quality_analyst.pdf', 'file_type': 'pdf'}, page_content='Mileto Foods (Remote) Tools Used: Excel, SQL, Power BI, Statistical Analysis\\n•Performed comprehensive quality auditsacross 5+ state operations, validating data integrity and process\\ncompliance, achieving99.2% data accuracythrough systematic validation procedures.\\n•Implemented quality control frameworks with automated Excel validation templates,reducing data entry errors by\\n40%across 20+ distribution points.\\n•Enhanced quality monitoring by creating Power BI dashboards with quality KPIs, improvingdefect detection rate\\nby 25%for proactive quality management.\\nProjects\\nVendor Quality Assessment & Process Validation|Quality Control, SQL, Statistical AnalysisApril 2025 GitHub\\n–Conducted end-to-end quality assessmentof 1M+ transaction records using SQL and Python, identifying 95% of\\ncritical quality issues and preventing$418K in potential quality-related losses.\\n–Designed quality dashboard with 15+ quality metrics tracking defect rates and compliance scores, reducing quality'),\n",
       " Document(metadata={'producer': 'pdfTeX-1.40.27', 'creator': 'LaTeX with hyperref', 'creationdate': '2025-09-16T04:28:48+00:00', 'author': '', 'keywords': '', 'moddate': '2025-09-16T04:28:48+00:00', 'ptex.fullbanner': 'This is pdfTeX, Version 3.141592653-2.6-1.40.27 (TeX Live 2025) kpathsea version 6.4.1', 'subject': '', 'title': '', 'trapped': '/False', 'source': '../data/pdf_files/Parvath_Reddy_Quality_analyst.pdf', 'total_pages': 1, 'page': 0, 'page_label': '1', 'source_file': 'Parvath_Reddy_Quality_analyst.pdf', 'file_type': 'pdf'}, page_content='critical quality issues and preventing$418K in potential quality-related losses.\\n–Designed quality dashboard with 15+ quality metrics tracking defect rates and compliance scores, reducing quality\\nanalysis time to real-time monitoring.\\n–Delivered quality improvement recommendations achieving 15-20% reduction in defect rates through systematic root\\ncause analysis and vendor standardization.\\nBanking Data Quality & Compliance Testing|Data Validation, Quality Assurance, SQLMarch 2025 GitHub\\n–Executed comprehensive data quality testingacross banking systems, validating 3,000 customer records and\\nensuring 99.5% accuracy in$43.8M loan portfolio through systematic quality checks.\\n–Developed quality assurance framework with validation rules and compliance metrics, implementing quality gates that\\nimproved data quality score by 95%.\\n–Established predictive quality monitoring analyzing 15-year patterns, enabling early detection of quality issues and\\npreventive measures for data integrity.'),\n",
       " Document(metadata={'producer': 'pdfTeX-1.40.27', 'creator': 'LaTeX with hyperref', 'creationdate': '2025-09-16T04:28:48+00:00', 'author': '', 'keywords': '', 'moddate': '2025-09-16T04:28:48+00:00', 'ptex.fullbanner': 'This is pdfTeX, Version 3.141592653-2.6-1.40.27 (TeX Live 2025) kpathsea version 6.4.1', 'subject': '', 'title': '', 'trapped': '/False', 'source': '../data/pdf_files/Parvath_Reddy_Quality_analyst.pdf', 'total_pages': 1, 'page': 0, 'page_label': '1', 'source_file': 'Parvath_Reddy_Quality_analyst.pdf', 'file_type': 'pdf'}, page_content='improved data quality score by 95%.\\n–Established predictive quality monitoring analyzing 15-year patterns, enabling early detection of quality issues and\\npreventive measures for data integrity.\\nSales Data Quality & Integrity Validation|Data Quality Testing, Process Validation, SQLDecember 2024 GitHub\\n–Performed comprehensive data quality assessmenton 5+ sales datasets, implementing validation protocols\\nachieving 98% data consistency across 5-year historical records.\\n–Created quality monitoring dashboard with automated anomaly detection, identifying data quality issues in real-time and\\nimproving data reliability by 35%.\\n–Delivered quality assurance recommendations for data governance, establishing standards that reduced data\\ninconsistencies by 40% for executive reporting.\\nEducation\\nBachelor of Technology - Computer Science EngineeringExpected: 2026\\nVellore Institute of Technology, Bhopal CGPA: 7.7/10.0'),\n",
       " Document(metadata={'producer': 'pdfTeX-1.40.26', 'creator': 'LaTeX with hyperref', 'creationdate': '2025-09-21T16:04:52+00:00', 'author': '', 'keywords': '', 'moddate': '2025-09-21T16:04:52+00:00', 'ptex.fullbanner': 'This is pdfTeX, Version 3.141592653-2.6-1.40.26 (TeX Live 2024) kpathsea version 6.4.0', 'subject': '', 'title': '', 'trapped': '/False', 'source': '../data/pdf_files/Parvath_Reddy_Machine_Learning_Engineer.pdf', 'total_pages': 1, 'page': 0, 'page_label': '1', 'source_file': 'Parvath_Reddy_Machine_Learning_Engineer.pdf', 'file_type': 'pdf'}, page_content='PARVATH REDDY\\nMachine Learning Engineer\\nBengaluru, KA | ♂phone+91-7675043309 /envel⌢peparvathreddy50@gmail.com /linkedinlinkedin.com/in/parvath-reddy /githubgithub.com/parvath-reddy\\nSummary\\nMachine Learning Engineer with expertise in building production-ready ML systems, deep learning models, and RAG-based\\napplications. Proficient in Python, TensorFlow, PyTorch, and MLOps, with experience deploying scalable models and\\ncomputer vision solutions achieving 95% accuracy.\\nTechnical Skills\\nMachine Learning: Scikit-learn, XGBoost, LightGBM, Random Forest, SVM, Ensemble Methods\\nDeep Learning & AI:TensorFlow, PyTorch, Keras, OpenAI API, Transformers, LSTM, CNN\\nComputer Vision & NLP:OpenCV, YOLO, Object Detection, OpenAI Whisper, RAG, Embeddings\\nMLOps & Deployment:Streamlit, Docker, Model Versioning, Pipeline Optimization\\nProgramming & Tools:Python, SQL, Git, Jupyter, Pandas, NumPy, Matplotlib, Seaborn\\nDatabases: MySQL, PostgreSQL, Vector Databases, Statistical Modeling\\nExperience'),\n",
       " Document(metadata={'producer': 'pdfTeX-1.40.26', 'creator': 'LaTeX with hyperref', 'creationdate': '2025-09-21T16:04:52+00:00', 'author': '', 'keywords': '', 'moddate': '2025-09-21T16:04:52+00:00', 'ptex.fullbanner': 'This is pdfTeX, Version 3.141592653-2.6-1.40.26 (TeX Live 2024) kpathsea version 6.4.0', 'subject': '', 'title': '', 'trapped': '/False', 'source': '../data/pdf_files/Parvath_Reddy_Machine_Learning_Engineer.pdf', 'total_pages': 1, 'page': 0, 'page_label': '1', 'source_file': 'Parvath_Reddy_Machine_Learning_Engineer.pdf', 'file_type': 'pdf'}, page_content='Programming & Tools:Python, SQL, Git, Jupyter, Pandas, NumPy, Matplotlib, Seaborn\\nDatabases: MySQL, PostgreSQL, Vector Databases, Statistical Modeling\\nExperience\\nMachine Learning Intern February 2025 – April 2025\\nMileto Foods (Remote) ML Tools: Python, Scikit-learn, SQL, Statistical Analysis\\n• Constructed predictive analytics models on 50,000+ multi-state sales records using Python and Scikit-learn, applying time\\nseries forecasting algorithms that enhanced demand prediction accuracy by 15% across 5 regional markets.\\n• Designed feature engineering pipeline with statistical analysis techniques, creating 12+ predictive features for inventory\\noptimization models, decreasing forecasting error by 25% and enabling proactive supply chain decisions.\\n• Delivered machine learning insights through systematic reporting systems using statistical modeling and regression analysis,\\nproviding actionable predictions that boosted revenue forecasting precision by 12% for strategic planning.'),\n",
       " Document(metadata={'producer': 'pdfTeX-1.40.26', 'creator': 'LaTeX with hyperref', 'creationdate': '2025-09-21T16:04:52+00:00', 'author': '', 'keywords': '', 'moddate': '2025-09-21T16:04:52+00:00', 'ptex.fullbanner': 'This is pdfTeX, Version 3.141592653-2.6-1.40.26 (TeX Live 2024) kpathsea version 6.4.0', 'subject': '', 'title': '', 'trapped': '/False', 'source': '../data/pdf_files/Parvath_Reddy_Machine_Learning_Engineer.pdf', 'total_pages': 1, 'page': 0, 'page_label': '1', 'source_file': 'Parvath_Reddy_Machine_Learning_Engineer.pdf', 'file_type': 'pdf'}, page_content='providing actionable predictions that boosted revenue forecasting precision by 12% for strategic planning.\\nMachine Learning Projects\\nRAG AI Teaching Assistant | NLP, Embeddings, LLM, Vector Search, Production ML August 2025 Live Demo\\n– Developed production-grade RAG system with advanced NLP pipeline achieving 90% semantic accuracy using BGE-M3\\nembeddings, vector similarity search, and Llama 3.2 LLM integration with sub-3-second inference time.\\n– Executed end-to-end ML pipeline with speech recognition (OpenAI Whisper), text preprocessing, and semantic chunking\\nalgorithms, processing 1,000+ educational segments with 95% content extraction accuracy.\\n– Launched scalable ML application using Streamlit with cosine similarity algorithms, vector database integration, and real-time\\nmodel serving infrastructure handling 500+ daily ML inference requests .\\nFinancial Fraud Detection ML System | Ensemble Methods, Feature Engineering, Production ML June 2025 Live Demo'),\n",
       " Document(metadata={'producer': 'pdfTeX-1.40.26', 'creator': 'LaTeX with hyperref', 'creationdate': '2025-09-21T16:04:52+00:00', 'author': '', 'keywords': '', 'moddate': '2025-09-21T16:04:52+00:00', 'ptex.fullbanner': 'This is pdfTeX, Version 3.141592653-2.6-1.40.26 (TeX Live 2024) kpathsea version 6.4.0', 'subject': '', 'title': '', 'trapped': '/False', 'source': '../data/pdf_files/Parvath_Reddy_Machine_Learning_Engineer.pdf', 'total_pages': 1, 'page': 0, 'page_label': '1', 'source_file': 'Parvath_Reddy_Machine_Learning_Engineer.pdf', 'file_type': 'pdf'}, page_content='model serving infrastructure handling 500+ daily ML inference requests .\\nFinancial Fraud Detection ML System | Ensemble Methods, Feature Engineering, Production ML June 2025 Live Demo\\n– Constructed high-performance ensemble ML model using XGBoost, Random Forest, and Gradient Boosting on 1M+ transaction\\ndataset, achieving 99.7% accuracy, 98.5% precision with advanced hyperparameter tuning and cross-validation.\\n– Designed sophisticated feature extraction pipeline creating 15+ behavioral and statistical features including transaction\\nvelocity, anomaly scores, and temporal patterns, elevating model AUC-ROC from 0.85 to 0.992 .\\n– Delivered real-time ML inference system with performance monitoring, A/B testing framework, and performance tracking, serving\\n1,000+ predictions daily with 99.9% uptime and model retraining capabilities.\\nCredit Risk ML Prediction Engine | Tree-based Models, Risk Analytics, Model Deployment April 2025 Live Demo'),\n",
       " Document(metadata={'producer': 'pdfTeX-1.40.26', 'creator': 'LaTeX with hyperref', 'creationdate': '2025-09-21T16:04:52+00:00', 'author': '', 'keywords': '', 'moddate': '2025-09-21T16:04:52+00:00', 'ptex.fullbanner': 'This is pdfTeX, Version 3.141592653-2.6-1.40.26 (TeX Live 2024) kpathsea version 6.4.0', 'subject': '', 'title': '', 'trapped': '/False', 'source': '../data/pdf_files/Parvath_Reddy_Machine_Learning_Engineer.pdf', 'total_pages': 1, 'page': 0, 'page_label': '1', 'source_file': 'Parvath_Reddy_Machine_Learning_Engineer.pdf', 'file_type': 'pdf'}, page_content='1,000+ predictions daily with 99.9% uptime and model retraining capabilities.\\nCredit Risk ML Prediction Engine | Tree-based Models, Risk Analytics, Model Deployment April 2025 Live Demo\\n– Established robust credit risk assessment ML model using Extra Trees Classifier with advanced feature selection techniques,\\nachieving 85% accuracy and 0.88 AUC-ROC score through ensemble learning and model stacking approaches.\\n– Executed comprehensive feature engineering workflow extracting 12 financial risk indicators with statistical validation,\\ncorrelation analysis, and feature importance ranking, improving model interpretability by 40%.\\n– Launched production ML system with model serving, confidence scoring, and drift detection mechanisms, processing 500+ risk\\nassessments monthly with real-time prediction capabilities and model performance monitoring.\\nResearch & Publications\\nComputer Vision Research: YOLOv8 Pothole Detection System April 2025'),\n",
       " Document(metadata={'producer': 'pdfTeX-1.40.26', 'creator': 'LaTeX with hyperref', 'creationdate': '2025-09-21T16:04:52+00:00', 'author': '', 'keywords': '', 'moddate': '2025-09-21T16:04:52+00:00', 'ptex.fullbanner': 'This is pdfTeX, Version 3.141592653-2.6-1.40.26 (TeX Live 2024) kpathsea version 6.4.0', 'subject': '', 'title': '', 'trapped': '/False', 'source': '../data/pdf_files/Parvath_Reddy_Machine_Learning_Engineer.pdf', 'total_pages': 1, 'page': 0, 'page_label': '1', 'source_file': 'Parvath_Reddy_Machine_Learning_Engineer.pdf', 'file_type': 'pdf'}, page_content='assessments monthly with real-time prediction capabilities and model performance monitoring.\\nResearch & Publications\\nComputer Vision Research: YOLOv8 Pothole Detection System April 2025\\nDeep Learning & Object Detection - 92.5% Precision Achievement Published on SSRN\\nEducation\\nBachelor of Technology - Computer Science Engineering Expected: 2026\\nVellore Institute of Technology, Bhopal CGPA: 7.7/10.0'),\n",
       " Document(metadata={'producer': 'pdfTeX-1.40.27', 'creator': 'LaTeX with hyperref', 'creationdate': '2025-10-03T21:17:13+00:00', 'author': '', 'keywords': '', 'moddate': '2025-10-03T21:17:13+00:00', 'ptex.fullbanner': 'This is pdfTeX, Version 3.141592653-2.6-1.40.27 (TeX Live 2025) kpathsea version 6.4.1', 'subject': '', 'title': '', 'trapped': '/False', 'source': '../data/pdf_files/ParvathReddy_DataScience_Resume.pdf', 'total_pages': 1, 'page': 0, 'page_label': '1', 'source_file': 'ParvathReddy_DataScience_Resume.pdf', 'file_type': 'pdf'}, page_content='PARVATH REDDY\\nData Scientist\\nBengaluru, KA|+91-7675043309|parvathreddy50@gmail.com |linkedin.com/in/parvath-reddy |github.com/parvath-reddy\\nSummary\\nData Scientist skilled in machine learning, deep learning, and AI development with internship experience in analytics. Hands-on\\nexpertise in building production-ready ML systems, RAG-based applications, and financial risk models. Strong foundation in\\nPython, SQL, and advanced analytics to deliver data-driven business solutions.\\nSkills\\nProgramming:Python, SQL, R, JavaScript\\nML/DL & AI:Scikit-learn, XGBoost, TensorFlow, PyTorch, OpenAI API, RAG, NLP\\nData Science:Pandas, NumPy, Matplotlib, Seaborn, Plotly, Jupyter, Streamlit\\nDatabases & Analytics:MySQL, PostgreSQL, Statistical Modeling, A/B Testing\\nExperience\\nData Science Intern August 2025 – September 2025\\nCodSoft (Remote) Python, Scikit-learn, Random Forest, SMOTE, Regression Analysis'),\n",
       " Document(metadata={'producer': 'pdfTeX-1.40.27', 'creator': 'LaTeX with hyperref', 'creationdate': '2025-10-03T21:17:13+00:00', 'author': '', 'keywords': '', 'moddate': '2025-10-03T21:17:13+00:00', 'ptex.fullbanner': 'This is pdfTeX, Version 3.141592653-2.6-1.40.27 (TeX Live 2025) kpathsea version 6.4.1', 'subject': '', 'title': '', 'trapped': '/False', 'source': '../data/pdf_files/ParvathReddy_DataScience_Resume.pdf', 'total_pages': 1, 'page': 0, 'page_label': '1', 'source_file': 'ParvathReddy_DataScience_Resume.pdf', 'file_type': 'pdf'}, page_content='Experience\\nData Science Intern August 2025 – September 2025\\nCodSoft (Remote) Python, Scikit-learn, Random Forest, SMOTE, Regression Analysis\\n•Developed machine learning models for fraud detection and movie rating prediction using Python, Scikit-learn, and ensemble methods\\non 289,000+ transactions and 5,000+ films, achieving 95%+ precision, 95%+ recall, and 0.8 RMSE through advanced feature\\nengineering, SMOTE oversampling, hyperparameter tuning, and cross-validation techniques that improved sales forecast accuracy by\\n85%.\\nData Analyst Intern February 2025 – April 2025\\nMileto Foods (Remote) Excel, Power BI, SQL, Data Analytics, DAX\\n•Analyzed 50,000+ rows of multi-state sales data using Excel, SQL, and Power BI to track regional KPIs and customer analytics across\\n5+ states and 3 product lines, designing DAX-powered dashboards and automated Excel templates with VLOOKUP and pivot tables'),\n",
       " Document(metadata={'producer': 'pdfTeX-1.40.27', 'creator': 'LaTeX with hyperref', 'creationdate': '2025-10-03T21:17:13+00:00', 'author': '', 'keywords': '', 'moddate': '2025-10-03T21:17:13+00:00', 'ptex.fullbanner': 'This is pdfTeX, Version 3.141592653-2.6-1.40.27 (TeX Live 2025) kpathsea version 6.4.1', 'subject': '', 'title': '', 'trapped': '/False', 'source': '../data/pdf_files/ParvathReddy_DataScience_Resume.pdf', 'total_pages': 1, 'page': 0, 'page_label': '1', 'source_file': 'ParvathReddy_DataScience_Resume.pdf', 'file_type': 'pdf'}, page_content='5+ states and 3 product lines, designing DAX-powered dashboards and automated Excel templates with VLOOKUP and pivot tables\\nthat improved demand forecasting accuracy by 15%, increased quarterly revenue visibility by 12%, and reduced weekly reporting time\\nby 35% across 20+ distribution points.\\nProjects\\nRAG AI Teaching Assistant|Python, OpenAI Whisper, BGE-M3, Ollama, Streamlit, FFmpegAugust 2025 Live Demo\\n•Engineered RAG-based video Q&A system with 6-stage pipeline achieving 85-90% query relevance accuracy and sub-3-second response\\ntime using Python, OpenAI Whisper, BGE-M3 embeddings, and Ollama LLM.\\n•Built production-ready Streamlit web application with semantic search capabilities handling multiple video formats, implementing\\ncosine similarity algorithms and integrating local Llama 3.2 model serving 1,000+ educational chunks.\\n•Constructed automated data processing pipeline utilizing FFmpeg for audio extraction, OpenAI Whisper for speech-to-text conversion,'),\n",
       " Document(metadata={'producer': 'pdfTeX-1.40.27', 'creator': 'LaTeX with hyperref', 'creationdate': '2025-10-03T21:17:13+00:00', 'author': '', 'keywords': '', 'moddate': '2025-10-03T21:17:13+00:00', 'ptex.fullbanner': 'This is pdfTeX, Version 3.141592653-2.6-1.40.27 (TeX Live 2025) kpathsea version 6.4.1', 'subject': '', 'title': '', 'trapped': '/False', 'source': '../data/pdf_files/ParvathReddy_DataScience_Resume.pdf', 'total_pages': 1, 'page': 0, 'page_label': '1', 'source_file': 'ParvathReddy_DataScience_Resume.pdf', 'file_type': 'pdf'}, page_content='•Constructed automated data processing pipeline utilizing FFmpeg for audio extraction, OpenAI Whisper for speech-to-text conversion,\\nreducing manual content indexing time by 95% and enabling instant access to video lecture information.\\nFraud Detection System|Python, Scikit-learn, Streamlit, Plotly, Ensemble MethodsJune 2025 Live Demo\\n•Implemented end-to-end fraud detection system using Python and Scikit-learn, training ensemble models on 1M+ financial\\ntransactions achieving 99.7% accuracy, 98.5% precision, and 97.8% recall metrics.\\n•Executed advanced feature engineering pipeline extracting 11 behavioral patterns from transaction data, reducing model training time\\nby 60% while improving AUC-ROC score from 0.92 to 0.992.\\n•Deployed interactive web application using Streamlit and Plotly enabling real-time fraud detection with intelligent alerts and risk\\nassessment dashboards serving 1,000+ predictions daily with 99.9% uptime SLA.'),\n",
       " Document(metadata={'producer': 'pdfTeX-1.40.27', 'creator': 'LaTeX with hyperref', 'creationdate': '2025-10-03T21:17:13+00:00', 'author': '', 'keywords': '', 'moddate': '2025-10-03T21:17:13+00:00', 'ptex.fullbanner': 'This is pdfTeX, Version 3.141592653-2.6-1.40.27 (TeX Live 2025) kpathsea version 6.4.1', 'subject': '', 'title': '', 'trapped': '/False', 'source': '../data/pdf_files/ParvathReddy_DataScience_Resume.pdf', 'total_pages': 1, 'page': 0, 'page_label': '1', 'source_file': 'ParvathReddy_DataScience_Resume.pdf', 'file_type': 'pdf'}, page_content='assessment dashboards serving 1,000+ predictions daily with 99.9% uptime SLA.\\nCredit Risk Prediction|Python, Scikit-learn, Extra Trees Classifier, Streamlit, PlotlyApril 2025 Live Demo\\n•Architected end-to-end ML pipeline for credit risk assessment using Python, Scikit-learn, and Extra Trees Classifier, achieving 78.5%\\naccuracy through feature engineering of 8 key financial indicators from 1,000+ credit records.\\n•Established production-ready Streamlit application with real-time prediction capabilities, interactive Plotly visualizations, and\\nintelligent risk recommendations processing 500+ monthly assessments with 99.9% uptime.\\n•Optimized credit evaluation time by 60% through mechanized risk scoring system with confidence intervals, enabling data-driven\\nlending decisions and improving loan approval consistency by 40%.\\nCertifications & Publications\\nOracle Data Science Professional CertificationSeptember 2025\\nOracle Cloud Infrastructure - Data Science Specialization'),\n",
       " Document(metadata={'producer': 'pdfTeX-1.40.27', 'creator': 'LaTeX with hyperref', 'creationdate': '2025-10-03T21:17:13+00:00', 'author': '', 'keywords': '', 'moddate': '2025-10-03T21:17:13+00:00', 'ptex.fullbanner': 'This is pdfTeX, Version 3.141592653-2.6-1.40.27 (TeX Live 2025) kpathsea version 6.4.1', 'subject': '', 'title': '', 'trapped': '/False', 'source': '../data/pdf_files/ParvathReddy_DataScience_Resume.pdf', 'total_pages': 1, 'page': 0, 'page_label': '1', 'source_file': 'ParvathReddy_DataScience_Resume.pdf', 'file_type': 'pdf'}, page_content='Certifications & Publications\\nOracle Data Science Professional CertificationSeptember 2025\\nOracle Cloud Infrastructure - Data Science Specialization\\nResearch Publication: YOLOv8 Pothole Detection SystemApril 2025\\nComputer Vision & Deep Learning SSRN\\nEducation\\nBachelor of Technology - Computer Science EngineeringExpected: 2026\\nVellore Institute of Technology, Bhopal CGPA: 7.7/10.0')]"
      ]
     },
     "execution_count": 22,
     "metadata": {},
     "output_type": "execute_result"
    }
   ],
   "source": [
    "chunks"
   ]
  },
  {
   "cell_type": "code",
   "execution_count": 23,
   "id": "f92cfb01",
   "metadata": {},
   "outputs": [
    {
     "name": "stdout",
     "output_type": "stream",
     "text": [
      "Generating embeddings for 16 texts...\n"
     ]
    },
    {
     "name": "stderr",
     "output_type": "stream",
     "text": [
      "Batches: 100%|██████████| 1/1 [00:00<00:00,  7.20it/s]"
     ]
    },
    {
     "name": "stdout",
     "output_type": "stream",
     "text": [
      "Generated embeddings with shape: (16, 384)\n",
      "Adding 16 documents to vector store...\n",
      "Successfully added 16 documents to vector store\n",
      "Total documents in collection: 32\n"
     ]
    },
    {
     "name": "stderr",
     "output_type": "stream",
     "text": [
      "\n"
     ]
    }
   ],
   "source": [
    "### Convert the text to embeddings\n",
    "texts=[doc.page_content for doc in chunks]\n",
    "texts\n",
    "\n",
    "## Generate the Embeddings\n",
    "\n",
    "embeddings=embedding_manager.generate_embeddings(texts)\n",
    "\n",
    "##store int he vector dtaabase\n",
    "vectorstore.add_documents(chunks,embeddings)"
   ]
  },
  {
   "cell_type": "code",
   "execution_count": 24,
   "id": "77a25372",
   "metadata": {},
   "outputs": [],
   "source": [
    "class RAGRetriever:\n",
    "    \"\"\"Handles query-based retrieval from the vector store\"\"\"\n",
    "    \n",
    "    def __init__(self, vector_store: VectorStore, embedding_manager: EmbeddingManager):\n",
    "        \"\"\"\n",
    "        Initialize the retriever\n",
    "        \n",
    "        Args:\n",
    "            vector_store: Vector store containing document embeddings\n",
    "            embedding_manager: Manager for generating query embeddings\n",
    "        \"\"\"\n",
    "        self.vector_store = vector_store\n",
    "        self.embedding_manager = embedding_manager\n",
    "\n",
    "    def retrieve(self, query: str, top_k: int = 5, score_threshold: float = 0.0) -> List[Dict[str, Any]]:\n",
    "        \"\"\"\n",
    "        Retrieve relevant documents for a query\n",
    "        \n",
    "        Args:\n",
    "            query: The search query\n",
    "            top_k: Number of top results to return\n",
    "            score_threshold: Minimum similarity score threshold\n",
    "            \n",
    "        Returns:\n",
    "            List of dictionaries containing retrieved documents and metadata\n",
    "        \"\"\"\n",
    "        print(f\"Retrieving documents for query: '{query}'\")\n",
    "        print(f\"Top K: {top_k}, Score threshold: {score_threshold}\")\n",
    "        \n",
    "        # Generate query embedding\n",
    "        query_embedding = self.embedding_manager.generate_embeddings([query])[0]\n",
    "        \n",
    "        # Search in vector store\n",
    "        try:\n",
    "            results = self.vector_store.collection.query(\n",
    "                query_embeddings=[query_embedding.tolist()],\n",
    "                n_results=top_k\n",
    "            )\n",
    "            \n",
    "            # Process results\n",
    "            retrieved_docs = []\n",
    "            \n",
    "            if results['documents'] and results['documents'][0]:\n",
    "                documents = results['documents'][0]\n",
    "                metadatas = results['metadatas'][0]\n",
    "                distances = results['distances'][0]\n",
    "                ids = results['ids'][0]\n",
    "                \n",
    "                for i, (doc_id, document, metadata, distance) in enumerate(zip(ids, documents, metadatas, distances)):\n",
    "                    # Convert distance to similarity score (ChromaDB uses cosine distance)\n",
    "                    similarity_score = 1 - distance\n",
    "                    \n",
    "                    if similarity_score >= score_threshold:\n",
    "                        retrieved_docs.append({\n",
    "                            'id': doc_id,\n",
    "                            'content': document,\n",
    "                            'metadata': metadata,\n",
    "                            'similarity_score': similarity_score,\n",
    "                            'distance': distance,\n",
    "                            'rank': i + 1\n",
    "                        })\n",
    "                \n",
    "                print(f\"Retrieved {len(retrieved_docs)} documents (after filtering)\")\n",
    "            else:\n",
    "                print(\"No documents found\")\n",
    "            \n",
    "            return retrieved_docs\n",
    "            \n",
    "        except Exception as e:\n",
    "            print(f\"Error during retrieval: {e}\")\n",
    "            return []\n",
    "\n",
    "rag_retriever=RAGRetriever(vectorstore,embedding_manager)"
   ]
  },
  {
   "cell_type": "code",
   "execution_count": 25,
   "id": "b386fd14",
   "metadata": {},
   "outputs": [
    {
     "data": {
      "text/plain": [
       "<__main__.RAGRetriever at 0x1168fab00>"
      ]
     },
     "execution_count": 25,
     "metadata": {},
     "output_type": "execute_result"
    }
   ],
   "source": [
    "rag_retriever"
   ]
  },
  {
   "cell_type": "code",
   "execution_count": 26,
   "id": "7e651fae",
   "metadata": {},
   "outputs": [
    {
     "name": "stdout",
     "output_type": "stream",
     "text": [
      "Retrieving documents for query: 'machine learning experience'\n",
      "Top K: 5, Score threshold: 0.0\n",
      "Generating embeddings for 1 texts...\n"
     ]
    },
    {
     "name": "stderr",
     "output_type": "stream",
     "text": [
      "Batches: 100%|██████████| 1/1 [00:00<00:00, 49.98it/s]"
     ]
    },
    {
     "name": "stdout",
     "output_type": "stream",
     "text": [
      "Generated embeddings with shape: (1, 384)\n",
      "Retrieved 5 documents (after filtering)\n"
     ]
    },
    {
     "name": "stderr",
     "output_type": "stream",
     "text": [
      "\n"
     ]
    },
    {
     "data": {
      "text/plain": [
       "[{'id': 'doc_5383b99d_4',\n",
       "  'content': 'PARVATH REDDY\\nMachine Learning Engineer\\nBengaluru, KA | ♂phone+91-7675043309 /envel⌢peparvathreddy50@gmail.com /linkedinlinkedin.com/in/parvath-reddy /githubgithub.com/parvath-reddy\\nSummary\\nMachine Learning Engineer with expertise in building production-ready ML systems, deep learning models, and RAG-based\\napplications. Proficient in Python, TensorFlow, PyTorch, and MLOps, with experience deploying scalable models and\\ncomputer vision solutions achieving 95% accuracy.\\nTechnical Skills\\nMachine Learning: Scikit-learn, XGBoost, LightGBM, Random Forest, SVM, Ensemble Methods\\nDeep Learning & AI:TensorFlow, PyTorch, Keras, OpenAI API, Transformers, LSTM, CNN\\nComputer Vision & NLP:OpenCV, YOLO, Object Detection, OpenAI Whisper, RAG, Embeddings\\nMLOps & Deployment:Streamlit, Docker, Model Versioning, Pipeline Optimization\\nProgramming & Tools:Python, SQL, Git, Jupyter, Pandas, NumPy, Matplotlib, Seaborn\\nDatabases: MySQL, PostgreSQL, Vector Databases, Statistical Modeling\\nExperience',\n",
       "  'metadata': {'trapped': '/False',\n",
       "   'author': '',\n",
       "   'creator': 'LaTeX with hyperref',\n",
       "   'file_type': 'pdf',\n",
       "   'page': 0,\n",
       "   'source': '../data/pdf_files/Parvath_Reddy_Machine_Learning_Engineer.pdf',\n",
       "   'creationdate': '2025-09-21T16:04:52+00:00',\n",
       "   'subject': '',\n",
       "   'ptex.fullbanner': 'This is pdfTeX, Version 3.141592653-2.6-1.40.26 (TeX Live 2024) kpathsea version 6.4.0',\n",
       "   'page_label': '1',\n",
       "   'producer': 'pdfTeX-1.40.26',\n",
       "   'total_pages': 1,\n",
       "   'content_length': 985,\n",
       "   'keywords': '',\n",
       "   'doc_index': 4,\n",
       "   'title': '',\n",
       "   'source_file': 'Parvath_Reddy_Machine_Learning_Engineer.pdf',\n",
       "   'moddate': '2025-09-21T16:04:52+00:00'},\n",
       "  'similarity_score': 0.5270708799362183,\n",
       "  'distance': 0.47292912006378174,\n",
       "  'rank': 1},\n",
       " {'id': 'doc_e9cadc86_4',\n",
       "  'content': 'PARVATH REDDY\\nMachine Learning Engineer\\nBengaluru, KA | ♂phone+91-7675043309 /envel⌢peparvathreddy50@gmail.com /linkedinlinkedin.com/in/parvath-reddy /githubgithub.com/parvath-reddy\\nSummary\\nMachine Learning Engineer with expertise in building production-ready ML systems, deep learning models, and RAG-based\\napplications. Proficient in Python, TensorFlow, PyTorch, and MLOps, with experience deploying scalable models and\\ncomputer vision solutions achieving 95% accuracy.\\nTechnical Skills\\nMachine Learning: Scikit-learn, XGBoost, LightGBM, Random Forest, SVM, Ensemble Methods\\nDeep Learning & AI:TensorFlow, PyTorch, Keras, OpenAI API, Transformers, LSTM, CNN\\nComputer Vision & NLP:OpenCV, YOLO, Object Detection, OpenAI Whisper, RAG, Embeddings\\nMLOps & Deployment:Streamlit, Docker, Model Versioning, Pipeline Optimization\\nProgramming & Tools:Python, SQL, Git, Jupyter, Pandas, NumPy, Matplotlib, Seaborn\\nDatabases: MySQL, PostgreSQL, Vector Databases, Statistical Modeling\\nExperience',\n",
       "  'metadata': {'content_length': 985,\n",
       "   'subject': '',\n",
       "   'moddate': '2025-09-21T16:04:52+00:00',\n",
       "   'source': '../data/pdf_files/Parvath_Reddy_Machine_Learning_Engineer.pdf',\n",
       "   'title': '',\n",
       "   'trapped': '/False',\n",
       "   'doc_index': 4,\n",
       "   'keywords': '',\n",
       "   'page': 0,\n",
       "   'total_pages': 1,\n",
       "   'file_type': 'pdf',\n",
       "   'ptex.fullbanner': 'This is pdfTeX, Version 3.141592653-2.6-1.40.26 (TeX Live 2024) kpathsea version 6.4.0',\n",
       "   'source_file': 'Parvath_Reddy_Machine_Learning_Engineer.pdf',\n",
       "   'producer': 'pdfTeX-1.40.26',\n",
       "   'author': '',\n",
       "   'creator': 'LaTeX with hyperref',\n",
       "   'page_label': '1',\n",
       "   'creationdate': '2025-09-21T16:04:52+00:00'},\n",
       "  'similarity_score': 0.5270708799362183,\n",
       "  'distance': 0.47292912006378174,\n",
       "  'rank': 2},\n",
       " {'id': 'doc_fd7eccdb_6',\n",
       "  'content': 'providing actionable predictions that boosted revenue forecasting precision by 12% for strategic planning.\\nMachine Learning Projects\\nRAG AI Teaching Assistant | NLP, Embeddings, LLM, Vector Search, Production ML August 2025 Live Demo\\n– Developed production-grade RAG system with advanced NLP pipeline achieving 90% semantic accuracy using BGE-M3\\nembeddings, vector similarity search, and Llama 3.2 LLM integration with sub-3-second inference time.\\n– Executed end-to-end ML pipeline with speech recognition (OpenAI Whisper), text preprocessing, and semantic chunking\\nalgorithms, processing 1,000+ educational segments with 95% content extraction accuracy.\\n– Launched scalable ML application using Streamlit with cosine similarity algorithms, vector database integration, and real-time\\nmodel serving infrastructure handling 500+ daily ML inference requests .\\nFinancial Fraud Detection ML System | Ensemble Methods, Feature Engineering, Production ML June 2025 Live Demo',\n",
       "  'metadata': {'moddate': '2025-09-21T16:04:52+00:00',\n",
       "   'content_length': 967,\n",
       "   'source_file': 'Parvath_Reddy_Machine_Learning_Engineer.pdf',\n",
       "   'page_label': '1',\n",
       "   'doc_index': 6,\n",
       "   'trapped': '/False',\n",
       "   'title': '',\n",
       "   'creator': 'LaTeX with hyperref',\n",
       "   'total_pages': 1,\n",
       "   'producer': 'pdfTeX-1.40.26',\n",
       "   'file_type': 'pdf',\n",
       "   'source': '../data/pdf_files/Parvath_Reddy_Machine_Learning_Engineer.pdf',\n",
       "   'author': '',\n",
       "   'subject': '',\n",
       "   'page': 0,\n",
       "   'keywords': '',\n",
       "   'creationdate': '2025-09-21T16:04:52+00:00',\n",
       "   'ptex.fullbanner': 'This is pdfTeX, Version 3.141592653-2.6-1.40.26 (TeX Live 2024) kpathsea version 6.4.0'},\n",
       "  'similarity_score': 0.4413391351699829,\n",
       "  'distance': 0.5586608648300171,\n",
       "  'rank': 3},\n",
       " {'id': 'doc_26391b12_6',\n",
       "  'content': 'providing actionable predictions that boosted revenue forecasting precision by 12% for strategic planning.\\nMachine Learning Projects\\nRAG AI Teaching Assistant | NLP, Embeddings, LLM, Vector Search, Production ML August 2025 Live Demo\\n– Developed production-grade RAG system with advanced NLP pipeline achieving 90% semantic accuracy using BGE-M3\\nembeddings, vector similarity search, and Llama 3.2 LLM integration with sub-3-second inference time.\\n– Executed end-to-end ML pipeline with speech recognition (OpenAI Whisper), text preprocessing, and semantic chunking\\nalgorithms, processing 1,000+ educational segments with 95% content extraction accuracy.\\n– Launched scalable ML application using Streamlit with cosine similarity algorithms, vector database integration, and real-time\\nmodel serving infrastructure handling 500+ daily ML inference requests .\\nFinancial Fraud Detection ML System | Ensemble Methods, Feature Engineering, Production ML June 2025 Live Demo',\n",
       "  'metadata': {'source_file': 'Parvath_Reddy_Machine_Learning_Engineer.pdf',\n",
       "   'doc_index': 6,\n",
       "   'content_length': 967,\n",
       "   'title': '',\n",
       "   'file_type': 'pdf',\n",
       "   'page_label': '1',\n",
       "   'creator': 'LaTeX with hyperref',\n",
       "   'page': 0,\n",
       "   'creationdate': '2025-09-21T16:04:52+00:00',\n",
       "   'source': '../data/pdf_files/Parvath_Reddy_Machine_Learning_Engineer.pdf',\n",
       "   'total_pages': 1,\n",
       "   'producer': 'pdfTeX-1.40.26',\n",
       "   'ptex.fullbanner': 'This is pdfTeX, Version 3.141592653-2.6-1.40.26 (TeX Live 2024) kpathsea version 6.4.0',\n",
       "   'keywords': '',\n",
       "   'subject': '',\n",
       "   'moddate': '2025-09-21T16:04:52+00:00',\n",
       "   'trapped': '/False',\n",
       "   'author': ''},\n",
       "  'similarity_score': 0.4413391351699829,\n",
       "  'distance': 0.5586608648300171,\n",
       "  'rank': 4},\n",
       " {'id': 'doc_7feb718e_8',\n",
       "  'content': '1,000+ predictions daily with 99.9% uptime and model retraining capabilities.\\nCredit Risk ML Prediction Engine | Tree-based Models, Risk Analytics, Model Deployment April 2025 Live Demo\\n– Established robust credit risk assessment ML model using Extra Trees Classifier with advanced feature selection techniques,\\nachieving 85% accuracy and 0.88 AUC-ROC score through ensemble learning and model stacking approaches.\\n– Executed comprehensive feature engineering workflow extracting 12 financial risk indicators with statistical validation,\\ncorrelation analysis, and feature importance ranking, improving model interpretability by 40%.\\n– Launched production ML system with model serving, confidence scoring, and drift detection mechanisms, processing 500+ risk\\nassessments monthly with real-time prediction capabilities and model performance monitoring.\\nResearch & Publications\\nComputer Vision Research: YOLOv8 Pothole Detection System April 2025',\n",
       "  'metadata': {'doc_index': 8,\n",
       "   'subject': '',\n",
       "   'title': '',\n",
       "   'source': '../data/pdf_files/Parvath_Reddy_Machine_Learning_Engineer.pdf',\n",
       "   'total_pages': 1,\n",
       "   'producer': 'pdfTeX-1.40.26',\n",
       "   'file_type': 'pdf',\n",
       "   'creator': 'LaTeX with hyperref',\n",
       "   'trapped': '/False',\n",
       "   'ptex.fullbanner': 'This is pdfTeX, Version 3.141592653-2.6-1.40.26 (TeX Live 2024) kpathsea version 6.4.0',\n",
       "   'moddate': '2025-09-21T16:04:52+00:00',\n",
       "   'content_length': 943,\n",
       "   'author': '',\n",
       "   'keywords': '',\n",
       "   'page_label': '1',\n",
       "   'creationdate': '2025-09-21T16:04:52+00:00',\n",
       "   'source_file': 'Parvath_Reddy_Machine_Learning_Engineer.pdf',\n",
       "   'page': 0},\n",
       "  'similarity_score': 0.4333838224411011,\n",
       "  'distance': 0.5666161775588989,\n",
       "  'rank': 5}]"
      ]
     },
     "execution_count": 26,
     "metadata": {},
     "output_type": "execute_result"
    }
   ],
   "source": [
    "rag_retriever.retrieve(\"machine learning experience\")"
   ]
  },
  {
   "cell_type": "code",
   "execution_count": 27,
   "id": "81bb2529",
   "metadata": {},
   "outputs": [
    {
     "name": "stdout",
     "output_type": "stream",
     "text": [
      "Retrieving documents for query: 'parvath reddy'\n",
      "Top K: 5, Score threshold: 0.0\n",
      "Generating embeddings for 1 texts...\n"
     ]
    },
    {
     "name": "stderr",
     "output_type": "stream",
     "text": [
      "Batches: 100%|██████████| 1/1 [00:00<00:00, 52.88it/s]"
     ]
    },
    {
     "name": "stdout",
     "output_type": "stream",
     "text": [
      "Generated embeddings with shape: (1, 384)\n",
      "Retrieved 5 documents (after filtering)\n"
     ]
    },
    {
     "name": "stderr",
     "output_type": "stream",
     "text": [
      "\n"
     ]
    },
    {
     "data": {
      "text/plain": [
       "[{'id': 'doc_4cb176fe_0',\n",
       "  'content': 'PARVATH REDDY\\nQuality Analyst\\nBengaluru, KA|♂phone+91-7675043309/envel⌢peparvathreddy50@gmail.com/linkedinlinkedin.com/in/parvath-reddy\\nSummary\\nQuality Analyst with expertise in data validation, process improvement, and quality assurance methodologies.\\nProficient in SQL, Python, and statistical analysis for identifying defects, ensuring data integrity, and implementing\\nquality control measures to enhance operational efficiency and reduce error rates.\\nSkills\\nQuality Assurance:Test Case Design, Defect Management, Root Cause Analysis, Quality Control, Process\\nValidation, Compliance Testing\\nTechnical:SQL, Python, Excel, Statistical Analysis, Data Validation, Quality Metrics, MySQL, PostgreSQL,\\nPower BI, Test Automation\\nExperience\\nQuality Analyst InternMay 2025 – July 2025\\nMileto Foods (Remote) Tools Used: Excel, SQL, Power BI, Statistical Analysis\\n•Performed comprehensive quality auditsacross 5+ state operations, validating data integrity and process',\n",
       "  'metadata': {'moddate': '2025-09-16T04:28:48+00:00',\n",
       "   'content_length': 960,\n",
       "   'author': '',\n",
       "   'file_type': 'pdf',\n",
       "   'total_pages': 1,\n",
       "   'subject': '',\n",
       "   'creator': 'LaTeX with hyperref',\n",
       "   'ptex.fullbanner': 'This is pdfTeX, Version 3.141592653-2.6-1.40.27 (TeX Live 2025) kpathsea version 6.4.1',\n",
       "   'doc_index': 0,\n",
       "   'trapped': '/False',\n",
       "   'title': '',\n",
       "   'keywords': '',\n",
       "   'producer': 'pdfTeX-1.40.27',\n",
       "   'page': 0,\n",
       "   'source_file': 'Parvath_Reddy_Quality_analyst.pdf',\n",
       "   'creationdate': '2025-09-16T04:28:48+00:00',\n",
       "   'source': '../data/pdf_files/Parvath_Reddy_Quality_analyst.pdf',\n",
       "   'page_label': '1'},\n",
       "  'similarity_score': 0.4113504886627197,\n",
       "  'distance': 0.5886495113372803,\n",
       "  'rank': 1},\n",
       " {'id': 'doc_de5aff02_0',\n",
       "  'content': 'PARVATH REDDY\\nQuality Analyst\\nBengaluru, KA|♂phone+91-7675043309/envel⌢peparvathreddy50@gmail.com/linkedinlinkedin.com/in/parvath-reddy\\nSummary\\nQuality Analyst with expertise in data validation, process improvement, and quality assurance methodologies.\\nProficient in SQL, Python, and statistical analysis for identifying defects, ensuring data integrity, and implementing\\nquality control measures to enhance operational efficiency and reduce error rates.\\nSkills\\nQuality Assurance:Test Case Design, Defect Management, Root Cause Analysis, Quality Control, Process\\nValidation, Compliance Testing\\nTechnical:SQL, Python, Excel, Statistical Analysis, Data Validation, Quality Metrics, MySQL, PostgreSQL,\\nPower BI, Test Automation\\nExperience\\nQuality Analyst InternMay 2025 – July 2025\\nMileto Foods (Remote) Tools Used: Excel, SQL, Power BI, Statistical Analysis\\n•Performed comprehensive quality auditsacross 5+ state operations, validating data integrity and process',\n",
       "  'metadata': {'content_length': 960,\n",
       "   'title': '',\n",
       "   'creationdate': '2025-09-16T04:28:48+00:00',\n",
       "   'doc_index': 0,\n",
       "   'moddate': '2025-09-16T04:28:48+00:00',\n",
       "   'total_pages': 1,\n",
       "   'subject': '',\n",
       "   'ptex.fullbanner': 'This is pdfTeX, Version 3.141592653-2.6-1.40.27 (TeX Live 2025) kpathsea version 6.4.1',\n",
       "   'file_type': 'pdf',\n",
       "   'source_file': 'Parvath_Reddy_Quality_analyst.pdf',\n",
       "   'producer': 'pdfTeX-1.40.27',\n",
       "   'source': '../data/pdf_files/Parvath_Reddy_Quality_analyst.pdf',\n",
       "   'trapped': '/False',\n",
       "   'creator': 'LaTeX with hyperref',\n",
       "   'author': '',\n",
       "   'keywords': '',\n",
       "   'page': 0,\n",
       "   'page_label': '1'},\n",
       "  'similarity_score': 0.4113504886627197,\n",
       "  'distance': 0.5886495113372803,\n",
       "  'rank': 2},\n",
       " {'id': 'doc_7b451099_10',\n",
       "  'content': 'PARVATH REDDY\\nData Scientist\\nBengaluru, KA|+91-7675043309|parvathreddy50@gmail.com |linkedin.com/in/parvath-reddy |github.com/parvath-reddy\\nSummary\\nData Scientist skilled in machine learning, deep learning, and AI development with internship experience in analytics. Hands-on\\nexpertise in building production-ready ML systems, RAG-based applications, and financial risk models. Strong foundation in\\nPython, SQL, and advanced analytics to deliver data-driven business solutions.\\nSkills\\nProgramming:Python, SQL, R, JavaScript\\nML/DL & AI:Scikit-learn, XGBoost, TensorFlow, PyTorch, OpenAI API, RAG, NLP\\nData Science:Pandas, NumPy, Matplotlib, Seaborn, Plotly, Jupyter, Streamlit\\nDatabases & Analytics:MySQL, PostgreSQL, Statistical Modeling, A/B Testing\\nExperience\\nData Science Intern August 2025 – September 2025\\nCodSoft (Remote) Python, Scikit-learn, Random Forest, SMOTE, Regression Analysis',\n",
       "  'metadata': {'content_length': 891,\n",
       "   'file_type': 'pdf',\n",
       "   'keywords': '',\n",
       "   'subject': '',\n",
       "   'trapped': '/False',\n",
       "   'page': 0,\n",
       "   'source_file': 'ParvathReddy_DataScience_Resume.pdf',\n",
       "   'total_pages': 1,\n",
       "   'author': '',\n",
       "   'title': '',\n",
       "   'doc_index': 10,\n",
       "   'creationdate': '2025-10-03T21:17:13+00:00',\n",
       "   'page_label': '1',\n",
       "   'moddate': '2025-10-03T21:17:13+00:00',\n",
       "   'ptex.fullbanner': 'This is pdfTeX, Version 3.141592653-2.6-1.40.27 (TeX Live 2025) kpathsea version 6.4.1',\n",
       "   'producer': 'pdfTeX-1.40.27',\n",
       "   'source': '../data/pdf_files/ParvathReddy_DataScience_Resume.pdf',\n",
       "   'creator': 'LaTeX with hyperref'},\n",
       "  'similarity_score': 0.33901435136795044,\n",
       "  'distance': 0.6609856486320496,\n",
       "  'rank': 3},\n",
       " {'id': 'doc_82ea26dc_10',\n",
       "  'content': 'PARVATH REDDY\\nData Scientist\\nBengaluru, KA|+91-7675043309|parvathreddy50@gmail.com |linkedin.com/in/parvath-reddy |github.com/parvath-reddy\\nSummary\\nData Scientist skilled in machine learning, deep learning, and AI development with internship experience in analytics. Hands-on\\nexpertise in building production-ready ML systems, RAG-based applications, and financial risk models. Strong foundation in\\nPython, SQL, and advanced analytics to deliver data-driven business solutions.\\nSkills\\nProgramming:Python, SQL, R, JavaScript\\nML/DL & AI:Scikit-learn, XGBoost, TensorFlow, PyTorch, OpenAI API, RAG, NLP\\nData Science:Pandas, NumPy, Matplotlib, Seaborn, Plotly, Jupyter, Streamlit\\nDatabases & Analytics:MySQL, PostgreSQL, Statistical Modeling, A/B Testing\\nExperience\\nData Science Intern August 2025 – September 2025\\nCodSoft (Remote) Python, Scikit-learn, Random Forest, SMOTE, Regression Analysis',\n",
       "  'metadata': {'content_length': 891,\n",
       "   'moddate': '2025-10-03T21:17:13+00:00',\n",
       "   'author': '',\n",
       "   'creator': 'LaTeX with hyperref',\n",
       "   'subject': '',\n",
       "   'doc_index': 10,\n",
       "   'producer': 'pdfTeX-1.40.27',\n",
       "   'source_file': 'ParvathReddy_DataScience_Resume.pdf',\n",
       "   'page_label': '1',\n",
       "   'trapped': '/False',\n",
       "   'creationdate': '2025-10-03T21:17:13+00:00',\n",
       "   'title': '',\n",
       "   'keywords': '',\n",
       "   'source': '../data/pdf_files/ParvathReddy_DataScience_Resume.pdf',\n",
       "   'page': 0,\n",
       "   'file_type': 'pdf',\n",
       "   'ptex.fullbanner': 'This is pdfTeX, Version 3.141592653-2.6-1.40.27 (TeX Live 2025) kpathsea version 6.4.1',\n",
       "   'total_pages': 1},\n",
       "  'similarity_score': 0.33901435136795044,\n",
       "  'distance': 0.6609856486320496,\n",
       "  'rank': 4},\n",
       " {'id': 'doc_e9cadc86_4',\n",
       "  'content': 'PARVATH REDDY\\nMachine Learning Engineer\\nBengaluru, KA | ♂phone+91-7675043309 /envel⌢peparvathreddy50@gmail.com /linkedinlinkedin.com/in/parvath-reddy /githubgithub.com/parvath-reddy\\nSummary\\nMachine Learning Engineer with expertise in building production-ready ML systems, deep learning models, and RAG-based\\napplications. Proficient in Python, TensorFlow, PyTorch, and MLOps, with experience deploying scalable models and\\ncomputer vision solutions achieving 95% accuracy.\\nTechnical Skills\\nMachine Learning: Scikit-learn, XGBoost, LightGBM, Random Forest, SVM, Ensemble Methods\\nDeep Learning & AI:TensorFlow, PyTorch, Keras, OpenAI API, Transformers, LSTM, CNN\\nComputer Vision & NLP:OpenCV, YOLO, Object Detection, OpenAI Whisper, RAG, Embeddings\\nMLOps & Deployment:Streamlit, Docker, Model Versioning, Pipeline Optimization\\nProgramming & Tools:Python, SQL, Git, Jupyter, Pandas, NumPy, Matplotlib, Seaborn\\nDatabases: MySQL, PostgreSQL, Vector Databases, Statistical Modeling\\nExperience',\n",
       "  'metadata': {'source_file': 'Parvath_Reddy_Machine_Learning_Engineer.pdf',\n",
       "   'page_label': '1',\n",
       "   'producer': 'pdfTeX-1.40.26',\n",
       "   'content_length': 985,\n",
       "   'title': '',\n",
       "   'file_type': 'pdf',\n",
       "   'ptex.fullbanner': 'This is pdfTeX, Version 3.141592653-2.6-1.40.26 (TeX Live 2024) kpathsea version 6.4.0',\n",
       "   'doc_index': 4,\n",
       "   'creator': 'LaTeX with hyperref',\n",
       "   'keywords': '',\n",
       "   'author': '',\n",
       "   'source': '../data/pdf_files/Parvath_Reddy_Machine_Learning_Engineer.pdf',\n",
       "   'moddate': '2025-09-21T16:04:52+00:00',\n",
       "   'total_pages': 1,\n",
       "   'creationdate': '2025-09-21T16:04:52+00:00',\n",
       "   'page': 0,\n",
       "   'trapped': '/False',\n",
       "   'subject': ''},\n",
       "  'similarity_score': 0.32725095748901367,\n",
       "  'distance': 0.6727490425109863,\n",
       "  'rank': 5}]"
      ]
     },
     "execution_count": 27,
     "metadata": {},
     "output_type": "execute_result"
    }
   ],
   "source": [
    "rag_retriever.retrieve(\"parvath reddy\")"
   ]
  },
  {
   "cell_type": "markdown",
   "id": "586cfe56",
   "metadata": {},
   "source": [
    "# integration vector db context pipeline with LLM output"
   ]
  },
  {
   "cell_type": "code",
   "execution_count": 41,
   "id": "3fd2ab77",
   "metadata": {},
   "outputs": [],
   "source": [
    "### Simple RAG pipeline with Groq LLM\n",
    "from langchain_groq import ChatGroq\n",
    "import os\n",
    "from dotenv import load_dotenv\n",
    "\n",
    "load_dotenv()\n",
    "\n",
    "### Initialize the Groq LLM (set your GROQ_API_KEY in environment)\n",
    "groq_api_key = os.getenv(\"GROQ_API_KEY\")\n",
    "llm = ChatGroq(\n",
    "    groq_api_key=groq_api_key,\n",
    "    model_name=\"llama-3.3-70b-versatile\",  # Currently supported model (replaced llama3-70b-8192)\n",
    "    temperature=0.1,\n",
    "    max_tokens=1024\n",
    ")\n",
    "\n",
    "## 2. Simple RAG function: retrieve context + generate response\n",
    "def rag_simple(query, retriever, llm, top_k=3):\n",
    "    ## retrieve the context\n",
    "    results = retriever.retrieve(query, top_k=top_k)\n",
    "    context = \"\\n\\n\".join([doc['content'] for doc in results]) if results else \"\"\n",
    "    if not context:\n",
    "        return \"No relevant context found to answer the question.\"\n",
    "    \n",
    "    ## generate the answer using GROQ LLM\n",
    "    prompt = f\"\"\"Use the following context to answer the question concisely.\n",
    "Context:\n",
    "{context}\n",
    "\n",
    "Question: {query}\n",
    "Answer:\"\"\"\n",
    "    \n",
    "    response = llm.invoke([prompt])\n",
    "    return response.content"
   ]
  },
  {
   "cell_type": "code",
   "execution_count": 42,
   "id": "a3e2adec",
   "metadata": {},
   "outputs": [
    {
     "name": "stdout",
     "output_type": "stream",
     "text": [
      "Retrieving documents for query: 'What is the best project in all of it ?'\n",
      "Top K: 3, Score threshold: 0.0\n",
      "Generating embeddings for 1 texts...\n"
     ]
    },
    {
     "name": "stderr",
     "output_type": "stream",
     "text": [
      "Batches: 100%|██████████| 1/1 [00:00<00:00,  3.44it/s]\n"
     ]
    },
    {
     "name": "stdout",
     "output_type": "stream",
     "text": [
      "Generated embeddings with shape: (1, 384)\n",
      "Retrieved 3 documents (after filtering)\n",
      "The RAG AI Teaching Assistant project stands out, achieving 85-90% query relevance accuracy and sub-3-second response time, making it a notable project.\n"
     ]
    }
   ],
   "source": [
    "answer=rag_simple(\"What is the best project in all of it ?\",rag_retriever,llm)\n",
    "print(answer)"
   ]
  },
  {
   "cell_type": "code",
   "execution_count": 44,
   "id": "87b50560",
   "metadata": {},
   "outputs": [
    {
     "name": "stdout",
     "output_type": "stream",
     "text": [
      "Retrieving documents for query: 'summrise all the files'\n",
      "Top K: 3, Score threshold: 0.1\n",
      "Generating embeddings for 1 texts...\n"
     ]
    },
    {
     "name": "stderr",
     "output_type": "stream",
     "text": [
      "Batches: 100%|██████████| 1/1 [00:01<00:00,  1.41s/it]\n"
     ]
    },
    {
     "name": "stdout",
     "output_type": "stream",
     "text": [
      "Generated embeddings with shape: (1, 384)\n",
      "Retrieved 3 documents (after filtering)\n",
      "Answer: The context appears to be a resume or a portfolio of a Data Scientist, Parvath Reddy. Here's a concise summary:\n",
      "\n",
      "**Summary:**\n",
      "Parvath Reddy is a Data Scientist with skills in machine learning, deep learning, and AI development. He has experience in building production-ready ML systems and financial risk models.\n",
      "\n",
      "**Key Experience:**\n",
      "\n",
      "* Developed a credit risk prediction model using Python, Scikit-learn, and Extra Trees Classifier, achieving 78.5% accuracy.\n",
      "* Built a production-ready Streamlit application with real-time prediction capabilities and interactive Plotly visualizations.\n",
      "* Optimized credit evaluation time by 60% through a mechanized risk scoring system.\n",
      "\n",
      "**Skills:**\n",
      "\n",
      "* Programming: Python, SQL, R, JavaScript\n",
      "* ML/DL & AI: Scikit-learn, XGBoost, TensorFlow, PyTorch, OpenAI API, RAG, NLP\n",
      "* Data Science: Pandas, NumPy, Matplotlib, Seaborn, Plotly, Jupyter, Streamlit\n",
      "\n",
      "**Certifications:**\n",
      "\n",
      "* Oracle Data Science Professional Certification\n",
      "* Oracle Cloud Infrastructure - Data Science Specialization\n",
      "\n",
      "**Contact:**\n",
      "Parvath Reddy can be reached at +91-7675043309 or parvathreddy50@gmail.com.\n",
      "Sources: [{'source': 'ParvathReddy_DataScience_Resume.pdf', 'page': 0, 'score': 0.14669352769851685, 'preview': 'assessment dashboards serving 1,000+ predictions daily with 99.9% uptime SLA.\\nCredit Risk Prediction|Python, Scikit-learn, Extra Trees Classifier, Streamlit, PlotlyApril 2025 Live Demo\\n•Architected end-to-end ML pipeline for credit risk assessment using Python, Scikit-learn, and Extra Trees Classifi...'}, {'source': 'ParvathReddy_DataScience_Resume.pdf', 'page': 0, 'score': 0.14669352769851685, 'preview': 'assessment dashboards serving 1,000+ predictions daily with 99.9% uptime SLA.\\nCredit Risk Prediction|Python, Scikit-learn, Extra Trees Classifier, Streamlit, PlotlyApril 2025 Live Demo\\n•Architected end-to-end ML pipeline for credit risk assessment using Python, Scikit-learn, and Extra Trees Classifi...'}, {'source': 'ParvathReddy_DataScience_Resume.pdf', 'page': 0, 'score': 0.1456119418144226, 'preview': 'PARVATH REDDY\\nData Scientist\\nBengaluru, KA|+91-7675043309|parvathreddy50@gmail.com |linkedin.com/in/parvath-reddy |github.com/parvath-reddy\\nSummary\\nData Scientist skilled in machine learning, deep learning, and AI development with internship experience in analytics. Hands-on\\nexpertise in building pr...'}]\n",
      "Confidence: 0.14669352769851685\n",
      "Context Preview: assessment dashboards serving 1,000+ predictions daily with 99.9% uptime SLA.\n",
      "Credit Risk Prediction|Python, Scikit-learn, Extra Trees Classifier, Streamlit, PlotlyApril 2025 Live Demo\n",
      "•Architected end-to-end ML pipeline for credit risk assessment using Python, Scikit-learn, and Extra Trees Classifi\n"
     ]
    }
   ],
   "source": [
    "# --- Enhanced RAG Pipeline Features ---\n",
    "def rag_advanced(query, retriever, llm, top_k=5, min_score=0.2, return_context=False):\n",
    "    \"\"\"\n",
    "    RAG pipeline with extra features:\n",
    "    - Returns answer, sources, confidence score, and optionally full context.\n",
    "    \"\"\"\n",
    "    results = retriever.retrieve(query, top_k=top_k, score_threshold=min_score)\n",
    "    if not results:\n",
    "        return {'answer': 'No relevant context found.', 'sources': [], 'confidence': 0.0, 'context': ''}\n",
    "    \n",
    "    # Prepare context and sources\n",
    "    context = \"\\n\\n\".join([doc['content'] for doc in results])\n",
    "    sources = [{\n",
    "        'source': doc['metadata'].get('source_file', doc['metadata'].get('source', 'unknown')),\n",
    "        'page': doc['metadata'].get('page', 'unknown'),\n",
    "        'score': doc['similarity_score'],\n",
    "        'preview': doc['content'][:300] + '...'\n",
    "    } for doc in results]\n",
    "    confidence = max([doc['similarity_score'] for doc in results])\n",
    "    \n",
    "    # Generate answer\n",
    "    prompt = f\"\"\"Use the following context to answer the question concisely.\\nContext:\\n{context}\\n\\nQuestion: {query}\\n\\nAnswer:\"\"\"\n",
    "    response = llm.invoke([prompt.format(context=context, query=query)])\n",
    "    \n",
    "    output = {\n",
    "        'answer': response.content,\n",
    "        'sources': sources,\n",
    "        'confidence': confidence\n",
    "    }\n",
    "    if return_context:\n",
    "        output['context'] = context\n",
    "    return output\n",
    "\n",
    "# Example usage:\n",
    "result = rag_advanced(\"summrise all the files\", rag_retriever, llm, top_k=3, min_score=0.1, return_context=True)\n",
    "print(\"Answer:\", result['answer'])\n",
    "print(\"Sources:\", result['sources'])\n",
    "print(\"Confidence:\", result['confidence'])\n",
    "print(\"Context Preview:\", result['context'][:300])"
   ]
  },
  {
   "cell_type": "code",
   "execution_count": null,
   "id": "ff830a26",
   "metadata": {},
   "outputs": [],
   "source": []
  }
 ],
 "metadata": {
  "kernelspec": {
   "display_name": "RAG",
   "language": "python",
   "name": "python3"
  },
  "language_info": {
   "codemirror_mode": {
    "name": "ipython",
    "version": 3
   },
   "file_extension": ".py",
   "mimetype": "text/x-python",
   "name": "python",
   "nbconvert_exporter": "python",
   "pygments_lexer": "ipython3",
   "version": "3.10.18"
  }
 },
 "nbformat": 4,
 "nbformat_minor": 5
}
